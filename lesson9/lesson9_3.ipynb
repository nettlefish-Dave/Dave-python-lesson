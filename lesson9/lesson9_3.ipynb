{
 "cells": [
  {
   "cell_type": "markdown",
   "id": "e0a1f4fd",
   "metadata": {},
   "source": [
    "### list 實體"
   ]
  },
  {
   "cell_type": "code",
   "execution_count": 2,
   "id": "1691e449",
   "metadata": {},
   "outputs": [
    {
     "name": "stdout",
     "output_type": "stream",
     "text": [
      "<class 'list'>\n"
     ]
    }
   ],
   "source": [
    "list1 = [89,71,65,95]\n",
    "print(type(list1))"
   ]
  },
  {
   "cell_type": "code",
   "execution_count": 3,
   "id": "c402a1c4",
   "metadata": {},
   "outputs": [
    {
     "name": "stdout",
     "output_type": "stream",
     "text": [
      "95\n",
      "65\n"
     ]
    }
   ],
   "source": [
    "print(max(list1))\n",
    "print(min(list1))"
   ]
  },
  {
   "cell_type": "code",
   "execution_count": 6,
   "id": "4b2732ac",
   "metadata": {},
   "outputs": [],
   "source": [
    "list1.append(100)"
   ]
  },
  {
   "cell_type": "code",
   "execution_count": 14,
   "id": "8f4c7798",
   "metadata": {},
   "outputs": [
    {
     "name": "stdout",
     "output_type": "stream",
     "text": [
      "[89, 71, 65, 95, 100, 100, 94]\n"
     ]
    }
   ],
   "source": [
    "print(list1)"
   ]
  },
  {
   "cell_type": "code",
   "execution_count": 10,
   "id": "9b1f5a11",
   "metadata": {},
   "outputs": [],
   "source": [
    "list1.extend([94,46])"
   ]
  },
  {
   "cell_type": "code",
   "execution_count": 13,
   "id": "c734339f",
   "metadata": {},
   "outputs": [
    {
     "data": {
      "text/plain": [
       "46"
      ]
     },
     "execution_count": 13,
     "metadata": {},
     "output_type": "execute_result"
    }
   ],
   "source": [
    "list1.pop()"
   ]
  }
 ],
 "metadata": {
  "kernelspec": {
   "display_name": "base",
   "language": "python",
   "name": "python3"
  },
  "language_info": {
   "codemirror_mode": {
    "name": "ipython",
    "version": 3
   },
   "file_extension": ".py",
   "mimetype": "text/x-python",
   "name": "python",
   "nbconvert_exporter": "python",
   "pygments_lexer": "ipython3",
   "version": "3.12.9"
  }
 },
 "nbformat": 4,
 "nbformat_minor": 5
}
