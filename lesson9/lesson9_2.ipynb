{
 "cells": [
  {
   "cell_type": "markdown",
   "id": "bfa05031",
   "metadata": {},
   "source": [
    "### 自訂class"
   ]
  },
  {
   "cell_type": "code",
   "execution_count": 11,
   "id": "8254a98c",
   "metadata": {},
   "outputs": [],
   "source": [
    "class student:\n",
    "    #attribute\n",
    "    #若使用dataclass呼叫 則可省略__init__的定義\n",
    "    def __init__(self,name:str,chinese:int,english:int,math:int):\n",
    "        self.name = name\n",
    "        self.chinese = chinese\n",
    "        self.english = english\n",
    "        self.math = math\n",
    "    \n",
    "    @property\n",
    "    #self代表這個實體\n",
    "    def total(self)->int:\n",
    "        return self.chinese + self.english + self.math\n",
    "    #實體方法 method 呼叫時需要帶()\n",
    "    def average(self)->float:\n",
    "        return round(self.total / 3.0,ndigits=2)\n",
    "\n",
    "    def __repr__(self)->str:\n",
    "        return f'{self.name}的相關資料'\n"
   ]
  },
  {
   "cell_type": "code",
   "execution_count": 13,
   "id": "b42e2c04",
   "metadata": {},
   "outputs": [
    {
     "name": "stdout",
     "output_type": "stream",
     "text": [
      "<class '__main__.student'>\n",
      "robert 89 78 92 259 86.33\n",
      "robert的相關資料\n"
     ]
    }
   ],
   "source": [
    "stu1 = student(name='robert',chinese=89,english=78,math=92)\n",
    "print(type(stu1))\n",
    "print(stu1.name,stu1.chinese,stu1.english,stu1.math,stu1.total,stu1.average())\n",
    "print(stu1)"
   ]
  },
  {
   "cell_type": "code",
   "execution_count": 14,
   "id": "8321028a",
   "metadata": {},
   "outputs": [
    {
     "name": "stdout",
     "output_type": "stream",
     "text": [
      "<class '__main__.student'>\n",
      "jenny 70 88 80 238 79.33\n",
      "jenny的相關資料\n"
     ]
    }
   ],
   "source": [
    "stu2 = student(name='jenny',chinese=70,english=88,math=80)\n",
    "print(type(stu2))\n",
    "print(stu2.name,stu2.chinese,stu2.english,stu2.math,stu2.total,stu2.average())\n",
    "print(stu2)"
   ]
  }
 ],
 "metadata": {
  "kernelspec": {
   "display_name": "base",
   "language": "python",
   "name": "python3"
  },
  "language_info": {
   "codemirror_mode": {
    "name": "ipython",
    "version": 3
   },
   "file_extension": ".py",
   "mimetype": "text/x-python",
   "name": "python",
   "nbconvert_exporter": "python",
   "pygments_lexer": "ipython3",
   "version": "3.12.9"
  }
 },
 "nbformat": 4,
 "nbformat_minor": 5
}
