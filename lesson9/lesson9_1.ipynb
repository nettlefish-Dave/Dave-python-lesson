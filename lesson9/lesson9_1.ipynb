{
 "cells": [
  {
   "cell_type": "code",
   "execution_count": 2,
   "id": "8bb638b0",
   "metadata": {},
   "outputs": [],
   "source": [
    "from dataclasses import dataclass\n",
    "\n",
    "@dataclass\n",
    "class student:\n",
    "    name:str\n",
    "    chinese:int\n",
    "    english:int\n",
    "    math:int"
   ]
  },
  {
   "cell_type": "code",
   "execution_count": 4,
   "id": "417c51b4",
   "metadata": {},
   "outputs": [
    {
     "data": {
      "text/plain": [
       "('robert', 89, 78, 92)"
      ]
     },
     "execution_count": 4,
     "metadata": {},
     "output_type": "execute_result"
    }
   ],
   "source": [
    "stu1 = student(name='robert',chinese=89,english=78,math=92)\n",
    "type(stu1)\n",
    "(stu1.name,stu1.chinese,stu1.english,stu1.math)"
   ]
  },
  {
   "cell_type": "code",
   "execution_count": 5,
   "id": "4c62efd3",
   "metadata": {},
   "outputs": [
    {
     "data": {
      "text/plain": [
       "('jenny', 70, 88, 80)"
      ]
     },
     "execution_count": 5,
     "metadata": {},
     "output_type": "execute_result"
    }
   ],
   "source": [
    "stu2 = student(name='jenny',chinese=70,english=88,math=80)\n",
    "type(stu2)\n",
    "(stu2.name,stu2.chinese,stu2.english,stu2.math)"
   ]
  }
 ],
 "metadata": {
  "kernelspec": {
   "display_name": "base",
   "language": "python",
   "name": "python3"
  },
  "language_info": {
   "codemirror_mode": {
    "name": "ipython",
    "version": 3
   },
   "file_extension": ".py",
   "mimetype": "text/x-python",
   "name": "python",
   "nbconvert_exporter": "python",
   "pygments_lexer": "ipython3",
   "version": "3.12.9"
  }
 },
 "nbformat": 4,
 "nbformat_minor": 5
}
