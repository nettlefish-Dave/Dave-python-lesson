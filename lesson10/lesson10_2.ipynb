{
 "cells": [
  {
   "cell_type": "markdown",
   "id": "4b78eb1d",
   "metadata": {},
   "source": [
    "### 讀取檔案 (excel的csv)"
   ]
  },
  {
   "cell_type": "code",
   "execution_count": 16,
   "id": "d50469b5",
   "metadata": {},
   "outputs": [
    {
     "name": "stdout",
     "output_type": "stream",
     "text": [
      "成績存在不合格的有\n"
     ]
    },
    {
     "data": {
      "text/plain": [
       "[{'姓名': '陳俊憲', '國文': '97', '英文': '69', '數學': '53'},\n",
       " {'姓名': '王坤安', '國文': '70', '英文': '75', '數學': '54'},\n",
       " {'姓名': '謝南慧', '國文': '91', '英文': '67', '數學': '57'},\n",
       " {'姓名': '黃詩妃', '國文': '86', '英文': '64', '數學': '58'},\n",
       " {'姓名': '楊建安', '國文': '53', '英文': '56', '數學': '62'},\n",
       " {'姓名': '簡佳樺', '國文': '74', '英文': '59', '數學': '95'},\n",
       " {'姓名': '李蓉瑞', '國文': '53', '英文': '73', '數學': '65'},\n",
       " {'姓名': '林士凱', '國文': '100', '英文': '90', '數學': '58'},\n",
       " {'姓名': '陳信念', '國文': '84', '英文': '50', '數學': '69'},\n",
       " {'姓名': '翁均安', '國文': '52', '英文': '64', '數學': '77'},\n",
       " {'姓名': '程玫靖', '國文': '55', '英文': '74', '數學': '69'},\n",
       " {'姓名': '高信宏', '國文': '83', '英文': '59', '數學': '97'},\n",
       " {'姓名': '林群清', '國文': '57', '英文': '77', '數學': '53'},\n",
       " {'姓名': '翁鈺婷', '國文': '57', '英文': '66', '數學': '50'},\n",
       " {'姓名': '蔡士賢', '國文': '53', '英文': '79', '數學': '50'},\n",
       " {'姓名': '翁羽威', '國文': '56', '英文': '77', '數學': '89'},\n",
       " {'姓名': '陳倩潔', '國文': '69', '英文': '71', '數學': '54'},\n",
       " {'姓名': '游倫城', '國文': '64', '英文': '51', '數學': '56'}]"
      ]
     },
     "execution_count": 16,
     "metadata": {},
     "output_type": "execute_result"
    }
   ],
   "source": [
    "import csv\n",
    "with open('students.csv','r',newline='') as csvfile:\n",
    "    reader = csv.DictReader(csvfile)\n",
    "    content:list[dict] = [row for row in reader]\n",
    "\n",
    "names = [name for name in content if int(name['國文']) < 60 or \n",
    "                                     int(name['英文']) < 60 or \n",
    "                                     int(name['數學']) < 60]\n",
    "\n",
    "print('成績存在不合格的有')\n",
    "names\n",
    "#for name in names:\n",
    "#    print(name['姓名'])\n"
   ]
  }
 ],
 "metadata": {
  "kernelspec": {
   "display_name": "base",
   "language": "python",
   "name": "python3"
  },
  "language_info": {
   "codemirror_mode": {
    "name": "ipython",
    "version": 3
   },
   "file_extension": ".py",
   "mimetype": "text/x-python",
   "name": "python",
   "nbconvert_exporter": "python",
   "pygments_lexer": "ipython3",
   "version": "3.12.9"
  }
 },
 "nbformat": 4,
 "nbformat_minor": 5
}
