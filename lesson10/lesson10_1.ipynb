{
 "cells": [
  {
   "cell_type": "code",
   "execution_count": 1,
   "id": "2d86a696",
   "metadata": {},
   "outputs": [
    {
     "name": "stdout",
     "output_type": "stream",
     "text": [
      "  1.王孝純\n",
      "  2.唐雪豪\n",
      "  3.謝哲維\n"
     ]
    }
   ],
   "source": [
    "import random\n",
    "\n",
    "file = open(\"names.txt\",encoding='utf-8')\n",
    "contents:list[str] = file.readlines()\n",
    "file.close()\n",
    "names:list[str] = [name.strip() for name in contents]\n",
    "pick = int(input(\"請輸入所需要的姓名數量:\"));\n",
    "\n",
    "for i in range(0, pick):\n",
    "    index = random.randint(0, len(names));\n",
    "    print(f\"{i+1:3d}.{names[index]}\");\n",
    "\n",
    "file.close();"
   ]
  },
  {
   "cell_type": "code",
   "execution_count": null,
   "id": "2c6ba260",
   "metadata": {},
   "outputs": [
    {
     "name": "stdout",
     "output_type": "stream",
     "text": [
      "1.沈心利\n",
      "2.劉佳佩\n",
      "3.高智超\n",
      "4.翁鈺婷\n",
      "5.張慧君\n"
     ]
    }
   ],
   "source": [
    "import random\n",
    "\n",
    "file = open(\"names.txt\",encoding='utf-8')\n",
    "contents:list[str] = file.readlines()\n",
    "file.close()\n",
    "names:list[str] = [name.strip() for name in contents]\n",
    "pick = int(input(\"請輸入所需要的姓名數量:\"));\n",
    "#enumerate 會產生 元素編號,元素 的串列\n",
    "for idx, name in enumerate(random.sample(names, pick)):\n",
    "    print(f'{idx+1}.{name}')"
   ]
  },
  {
   "cell_type": "markdown",
   "id": "da41118f",
   "metadata": {},
   "source": [
    "### 建立表格資料\n",
    "- 使用preplexty協助 說明的越詳細越好 但有機會自動使用pro搜尋 一天免費三次"
   ]
  },
  {
   "cell_type": "code",
   "execution_count": 3,
   "id": "be305133",
   "metadata": {},
   "outputs": [
    {
     "data": {
      "text/plain": [
       "[{'姓名': '劉依婷', '國文': 69, '英文': 55, '數學': 71},\n",
       " {'姓名': '邱亭君', '國文': 66, '英文': 100, '數學': 68},\n",
       " {'姓名': '游一鈺', '國文': 59, '英文': 98, '數學': 97},\n",
       " {'姓名': '張伊映', '國文': 83, '英文': 78, '數學': 84},\n",
       " {'姓名': '戚亨', '國文': 78, '英文': 95, '數學': 73},\n",
       " {'姓名': '張莉雯', '國文': 93, '英文': 92, '數學': 57},\n",
       " {'姓名': '謝水儒', '國文': 80, '英文': 66, '數學': 96},\n",
       " {'姓名': '洪阿惠', '國文': 91, '英文': 96, '數學': 59},\n",
       " {'姓名': '鍾俞禎', '國文': 72, '英文': 93, '數學': 54},\n",
       " {'姓名': '陳淑萍', '國文': 60, '英文': 77, '數學': 68},\n",
       " {'姓名': '林詠斌', '國文': 73, '英文': 92, '數學': 79},\n",
       " {'姓名': '劉昀天', '國文': 66, '英文': 69, '數學': 55},\n",
       " {'姓名': '王怡君', '國文': 58, '英文': 91, '數學': 56},\n",
       " {'姓名': '張軒宸', '國文': 75, '英文': 55, '數學': 86},\n",
       " {'姓名': '白世宏', '國文': 59, '英文': 55, '數學': 79},\n",
       " {'姓名': '傅佳琳', '國文': 74, '英文': 52, '數學': 68},\n",
       " {'姓名': '林建勳', '國文': 100, '英文': 92, '數學': 57},\n",
       " {'姓名': '謝哲維', '國文': 72, '英文': 55, '數學': 91},\n",
       " {'姓名': '林麗萍', '國文': 97, '英文': 53, '數學': 52},\n",
       " {'姓名': '張明惟', '國文': 70, '英文': 88, '數學': 50},\n",
       " {'姓名': '張凡成', '國文': 99, '英文': 62, '數學': 60},\n",
       " {'姓名': '程玫靖', '國文': 72, '英文': 87, '數學': 86},\n",
       " {'姓名': '蘇婷婷', '國文': 82, '英文': 79, '數學': 100},\n",
       " {'姓名': '林清英', '國文': 85, '英文': 76, '數學': 62},\n",
       " {'姓名': '彭茹靖', '國文': 97, '英文': 79, '數學': 79},\n",
       " {'姓名': '陳文賢', '國文': 99, '英文': 82, '數學': 92},\n",
       " {'姓名': '王筱婷', '國文': 64, '英文': 94, '數學': 55},\n",
       " {'姓名': '柯韋成', '國文': 84, '英文': 94, '數學': 75},\n",
       " {'姓名': '馮耀中', '國文': 76, '英文': 86, '數學': 53},\n",
       " {'姓名': '鄭琇亞', '國文': 97, '英文': 78, '數學': 58},\n",
       " {'姓名': '林士凱', '國文': 74, '英文': 84, '數學': 54},\n",
       " {'姓名': '李美洋', '國文': 68, '英文': 63, '數學': 79},\n",
       " {'姓名': '蕭淑華', '國文': 62, '英文': 89, '數學': 86},\n",
       " {'姓名': '張雅芬', '國文': 89, '英文': 61, '數學': 55},\n",
       " {'姓名': '劉耿琦', '國文': 84, '英文': 90, '數學': 68},\n",
       " {'姓名': '陳嘉淑', '國文': 54, '英文': 66, '數學': 95},\n",
       " {'姓名': '王展人', '國文': 51, '英文': 95, '數學': 99},\n",
       " {'姓名': '余丞苓', '國文': 88, '英文': 73, '數學': 64},\n",
       " {'姓名': '黃健發', '國文': 59, '英文': 95, '數學': 54},\n",
       " {'姓名': '馮芳如', '國文': 93, '英文': 60, '數學': 91},\n",
       " {'姓名': '劉雯芬', '國文': 69, '英文': 80, '數學': 78},\n",
       " {'姓名': '王怡珊', '國文': 58, '英文': 94, '數學': 86},\n",
       " {'姓名': '楊綺芬', '國文': 90, '英文': 54, '數學': 86},\n",
       " {'姓名': '蔡明平', '國文': 94, '英文': 81, '數學': 52},\n",
       " {'姓名': '王雅琴', '國文': 81, '英文': 98, '數學': 100},\n",
       " {'姓名': '劉萬季', '國文': 66, '英文': 100, '數學': 74},\n",
       " {'姓名': '林柏洋', '國文': 71, '英文': 67, '數學': 77},\n",
       " {'姓名': '姜琬婷', '國文': 76, '英文': 79, '數學': 75},\n",
       " {'姓名': '林俊翔', '國文': 57, '英文': 75, '數學': 79},\n",
       " {'姓名': '翁鈺婷', '國文': 59, '英文': 69, '數學': 87}]"
      ]
     },
     "execution_count": 3,
     "metadata": {},
     "output_type": "execute_result"
    }
   ],
   "source": [
    "import random\n",
    "\n",
    "file = open(\"names.txt\",encoding='utf-8')\n",
    "contents:list[str] = file.readlines()\n",
    "file.close()\n",
    "names:list[str] = [name.strip() for name in contents]\n",
    "pick = int(input(\"請輸入所需要的姓名數量:\"));\n",
    "\n",
    "selected_names = random.sample(names, pick)\n",
    "students_data:list[dict] = [\n",
    "    {\n",
    "        '姓名':name,\n",
    "        '國文':random.randint(50,100),\n",
    "        '英文':random.randint(50,100),\n",
    "        '數學':random.randint(50, 100) \n",
    "    }\n",
    "    for name in selected_names]\n",
    "students_data"
   ]
  }
 ],
 "metadata": {
  "kernelspec": {
   "display_name": "base",
   "language": "python",
   "name": "python3"
  },
  "language_info": {
   "codemirror_mode": {
    "name": "ipython",
    "version": 3
   },
   "file_extension": ".py",
   "mimetype": "text/x-python",
   "name": "python",
   "nbconvert_exporter": "python",
   "pygments_lexer": "ipython3",
   "version": "3.12.9"
  }
 },
 "nbformat": 4,
 "nbformat_minor": 5
}
