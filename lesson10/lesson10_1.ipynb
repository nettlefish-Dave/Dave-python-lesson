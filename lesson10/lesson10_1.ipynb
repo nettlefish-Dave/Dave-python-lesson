{
 "cells": [
  {
   "cell_type": "code",
   "execution_count": 1,
   "id": "2d86a696",
   "metadata": {},
   "outputs": [
    {
     "name": "stdout",
     "output_type": "stream",
     "text": [
      "  1.王孝純\n",
      "  2.唐雪豪\n",
      "  3.謝哲維\n"
     ]
    }
   ],
   "source": [
    "import random\n",
    "\n",
    "file = open(\"names.txt\",encoding='utf-8')\n",
    "contents:list[str] = file.readlines()\n",
    "file.close()\n",
    "names:list[str] = [name.strip() for name in contents]\n",
    "pick = int(input(\"請輸入所需要的姓名數量:\"));\n",
    "\n",
    "for i in range(0, pick):\n",
    "    index = random.randint(0, len(names));\n",
    "    print(f\"{i+1:3d}.{names[index]}\");\n",
    "\n",
    "file.close();"
   ]
  },
  {
   "cell_type": "code",
   "execution_count": null,
   "id": "2c6ba260",
   "metadata": {},
   "outputs": [
    {
     "name": "stdout",
     "output_type": "stream",
     "text": [
      "1.沈心利\n",
      "2.劉佳佩\n",
      "3.高智超\n",
      "4.翁鈺婷\n",
      "5.張慧君\n"
     ]
    }
   ],
   "source": [
    "import random\n",
    "\n",
    "file = open(\"names.txt\",encoding='utf-8')\n",
    "contents:list[str] = file.readlines()\n",
    "file.close()\n",
    "names:list[str] = [name.strip() for name in contents]\n",
    "pick = int(input(\"請輸入所需要的姓名數量:\"));\n",
    "#enumerate 會產生 元素編號,元素 的串列\n",
    "for idx, name in enumerate(random.sample(names, pick)):\n",
    "    print(f'{idx+1}.{name}')"
   ]
  },
  {
   "cell_type": "markdown",
   "id": "da41118f",
   "metadata": {},
   "source": [
    "### 建立表格資料\n",
    "- 使用preplexty協助 說明的越詳細越好 但有機會自動使用pro搜尋 一天免費三次"
   ]
  },
  {
   "cell_type": "code",
   "execution_count": 2,
   "id": "be305133",
   "metadata": {},
   "outputs": [
    {
     "data": {
      "text/plain": [
       "[{'姓名': '陳俊憲', '國文': 97, '英文': 69, '數學': 53},\n",
       " {'姓名': '王坤安', '國文': 70, '英文': 75, '數學': 54},\n",
       " {'姓名': '謝南慧', '國文': 91, '英文': 67, '數學': 57},\n",
       " {'姓名': '葉軍仰', '國文': 73, '英文': 63, '數學': 85},\n",
       " {'姓名': '崔孝憲', '國文': 98, '英文': 83, '數學': 98},\n",
       " {'姓名': '陳逸凡', '國文': 62, '英文': 68, '數學': 61},\n",
       " {'姓名': '洪奎夫', '國文': 99, '英文': 61, '數學': 63},\n",
       " {'姓名': '黃詩妃', '國文': 86, '英文': 64, '數學': 58},\n",
       " {'姓名': '楊建安', '國文': 53, '英文': 56, '數學': 62},\n",
       " {'姓名': '陳家年', '國文': 79, '英文': 96, '數學': 76},\n",
       " {'姓名': '姜琬婷', '國文': 91, '英文': 96, '數學': 88},\n",
       " {'姓名': '簡佳樺', '國文': 74, '英文': 59, '數學': 95},\n",
       " {'姓名': '林佳蓉', '國文': 95, '英文': 98, '數學': 93},\n",
       " {'姓名': '林佳光', '國文': 79, '英文': 96, '數學': 90},\n",
       " {'姓名': '李蓉瑞', '國文': 53, '英文': 73, '數學': 65},\n",
       " {'姓名': '吳振瑋', '國文': 65, '英文': 64, '數學': 67},\n",
       " {'姓名': '唐翊修', '國文': 88, '英文': 94, '數學': 65},\n",
       " {'姓名': '林士凱', '國文': 100, '英文': 90, '數學': 58},\n",
       " {'姓名': '吳志宣', '國文': 80, '英文': 91, '數學': 97},\n",
       " {'姓名': '詹忠光', '國文': 70, '英文': 61, '數學': 70},\n",
       " {'姓名': '張牧聿', '國文': 85, '英文': 82, '數學': 75},\n",
       " {'姓名': '林俊翔', '國文': 89, '英文': 95, '數學': 83},\n",
       " {'姓名': '馮淑芬', '國文': 84, '英文': 73, '數學': 86},\n",
       " {'姓名': '陳信念', '國文': 84, '英文': 50, '數學': 69},\n",
       " {'姓名': '翁均安', '國文': 52, '英文': 64, '數學': 77},\n",
       " {'姓名': '王怡珊', '國文': 99, '英文': 75, '數學': 65},\n",
       " {'姓名': '王梅劭', '國文': 92, '英文': 81, '數學': 98},\n",
       " {'姓名': '程玫靖', '國文': 55, '英文': 74, '數學': 69},\n",
       " {'姓名': '高信宏', '國文': 83, '英文': 59, '數學': 97},\n",
       " {'姓名': '王品星', '國文': 69, '英文': 67, '數學': 90},\n",
       " {'姓名': '王筱婷', '國文': 82, '英文': 95, '數學': 73},\n",
       " {'姓名': '王良斌', '國文': 94, '英文': 63, '數學': 69},\n",
       " {'姓名': '林柏洋', '國文': 66, '英文': 90, '數學': 90},\n",
       " {'姓名': '林群清', '國文': 57, '英文': 77, '數學': 53},\n",
       " {'姓名': '黃婷婷', '國文': 94, '英文': 66, '數學': 60},\n",
       " {'姓名': '陳逸華', '國文': 69, '英文': 98, '數學': 85},\n",
       " {'姓名': '翁鈺婷', '國文': 57, '英文': 66, '數學': 50},\n",
       " {'姓名': '蔡士賢', '國文': 53, '英文': 79, '數學': 50},\n",
       " {'姓名': '王雅慧', '國文': 64, '英文': 74, '數學': 71},\n",
       " {'姓名': '賴心怡', '國文': 82, '英文': 96, '數學': 68},\n",
       " {'姓名': '翁羽威', '國文': 56, '英文': 77, '數學': 89},\n",
       " {'姓名': '王人仰', '國文': 95, '英文': 65, '數學': 96},\n",
       " {'姓名': '陳倩潔', '國文': 69, '英文': 71, '數學': 54},\n",
       " {'姓名': '潘俊賢', '國文': 82, '英文': 99, '數學': 74},\n",
       " {'姓名': '蔡至剛', '國文': 66, '英文': 92, '數學': 72},\n",
       " {'姓名': '龔姵君', '國文': 83, '英文': 92, '數學': 83},\n",
       " {'姓名': '孫火清', '國文': 73, '英文': 86, '數學': 83},\n",
       " {'姓名': '梁柏宇', '國文': 63, '英文': 77, '數學': 81},\n",
       " {'姓名': '張雅芬', '國文': 66, '英文': 74, '數學': 96},\n",
       " {'姓名': '游倫城', '國文': 64, '英文': 51, '數學': 56}]"
      ]
     },
     "execution_count": 2,
     "metadata": {},
     "output_type": "execute_result"
    }
   ],
   "source": [
    "import random\n",
    "\n",
    "with open(\"names.txt\",encoding='utf-8') as file:\n",
    "    contents:list[str] = file.readlines()\n",
    "\n",
    "names:list[str] = [name.strip() for name in contents]\n",
    "pick = int(input(\"請輸入所需要的姓名數量:\"));\n",
    "#建立亂數選擇學生\n",
    "selected_names = random.sample(names, pick)\n",
    "students_data:list[dict] = [\n",
    "    {\n",
    "        '姓名':name,\n",
    "        '國文':random.randint(50,100),\n",
    "        '英文':random.randint(50,100),\n",
    "        '數學':random.randint(50, 100) \n",
    "    }\n",
    "    for name in selected_names]\n",
    "    #list prehension(快速建立) 語法\n",
    "students_data"
   ]
  },
  {
   "cell_type": "markdown",
   "id": "f2344894",
   "metadata": {},
   "source": [
    "### 寫入檔案 (excel的csv格式)"
   ]
  },
  {
   "cell_type": "code",
   "execution_count": 3,
   "id": "94e39e80",
   "metadata": {},
   "outputs": [
    {
     "name": "stdout",
     "output_type": "stream",
     "text": [
      "寫入成功\n"
     ]
    }
   ],
   "source": [
    "# 指定欄位名稱（欄位順序）\n",
    "import csv\n",
    "\n",
    "filednames = students_data[0].keys()\n",
    "\n",
    "with open('students.csv','w',newline='',encoding='utf-8') as csvfile:\n",
    "    writer = csv.DictWriter(csvfile,fieldnames=filednames)\n",
    "    # 寫入欄位標題\n",
    "    writer.writeheader()\n",
    "    \n",
    "    # 寫入多筆資料\n",
    "    writer.writerows(students_data)\n",
    "print(\"寫入成功\")"
   ]
  }
 ],
 "metadata": {
  "kernelspec": {
   "display_name": "base",
   "language": "python",
   "name": "python3"
  },
  "language_info": {
   "codemirror_mode": {
    "name": "ipython",
    "version": 3
   },
   "file_extension": ".py",
   "mimetype": "text/x-python",
   "name": "python",
   "nbconvert_exporter": "python",
   "pygments_lexer": "ipython3",
   "version": "3.12.9"
  }
 },
 "nbformat": 4,
 "nbformat_minor": 5
}
