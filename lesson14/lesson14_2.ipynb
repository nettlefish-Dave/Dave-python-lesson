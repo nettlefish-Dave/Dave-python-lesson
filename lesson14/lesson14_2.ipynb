{
 "cells": [
  {
   "cell_type": "markdown",
   "id": "96400c9a",
   "metadata": {},
   "source": [
    "# ndarray 的索引 index 與切割 slice"
   ]
  },
  {
   "cell_type": "code",
   "execution_count": 6,
   "id": "acf12800",
   "metadata": {},
   "outputs": [
    {
     "name": "stdout",
     "output_type": "stream",
     "text": [
      "0\n",
      "9\n",
      "[0 1 2]\n",
      "[7 8 9]\n"
     ]
    }
   ],
   "source": [
    "import numpy as np\n",
    "\n",
    "arr = np.arange(10)\n",
    "print(arr[0])\n",
    "print(arr[-1])\n",
    "print(arr[:3])\n",
    "print(arr[-3:])"
   ]
  },
  {
   "cell_type": "code",
   "execution_count": 12,
   "id": "2b683fb5",
   "metadata": {},
   "outputs": [
    {
     "data": {
      "text/plain": [
       "89"
      ]
     },
     "execution_count": 12,
     "metadata": {},
     "output_type": "execute_result"
    }
   ],
   "source": [
    "import random\n",
    "\n",
    "random.randint(50,100)"
   ]
  },
  {
   "cell_type": "code",
   "execution_count": 11,
   "id": "7c967ada",
   "metadata": {},
   "outputs": [
    {
     "name": "stdout",
     "output_type": "stream",
     "text": [
      "250\n",
      "(50, 5)\n",
      "64\n"
     ]
    }
   ],
   "source": [
    "np.random.randint(50,101,size=5)\n",
    "#一口氣建立亂數二維陣列 50組 5個\n",
    "score = np.random.randint(50,101,size=(50,5))\n",
    "print(score.size)\n",
    "print(score.shape)\n",
    "print(score[0,0])"
   ]
  },
  {
   "cell_type": "code",
   "execution_count": 15,
   "id": "0d74d529",
   "metadata": {},
   "outputs": [
    {
     "data": {
      "text/plain": [
       "array([[ 64],\n",
       "       [ 68],\n",
       "       [ 86],\n",
       "       [ 94],\n",
       "       [ 95],\n",
       "       [ 75],\n",
       "       [ 50],\n",
       "       [ 55],\n",
       "       [ 68],\n",
       "       [ 65],\n",
       "       [ 92],\n",
       "       [ 78],\n",
       "       [ 86],\n",
       "       [ 73],\n",
       "       [ 60],\n",
       "       [ 58],\n",
       "       [ 57],\n",
       "       [ 84],\n",
       "       [ 77],\n",
       "       [ 63],\n",
       "       [ 65],\n",
       "       [ 62],\n",
       "       [ 64],\n",
       "       [ 80],\n",
       "       [ 56],\n",
       "       [ 81],\n",
       "       [ 79],\n",
       "       [ 87],\n",
       "       [ 92],\n",
       "       [ 52],\n",
       "       [ 73],\n",
       "       [ 72],\n",
       "       [ 65],\n",
       "       [ 73],\n",
       "       [ 82],\n",
       "       [ 63],\n",
       "       [ 51],\n",
       "       [ 81],\n",
       "       [ 91],\n",
       "       [ 64],\n",
       "       [ 67],\n",
       "       [ 52],\n",
       "       [ 77],\n",
       "       [ 79],\n",
       "       [ 68],\n",
       "       [100],\n",
       "       [ 51],\n",
       "       [ 89],\n",
       "       [ 78],\n",
       "       [ 52]], dtype=int32)"
      ]
     },
     "execution_count": 15,
     "metadata": {},
     "output_type": "execute_result"
    }
   ],
   "source": [
    "score[:,0]\n",
    "score[:,0:1]"
   ]
  },
  {
   "cell_type": "code",
   "execution_count": 17,
   "id": "6cabf1be",
   "metadata": {},
   "outputs": [
    {
     "data": {
      "text/plain": [
       "array([[64, 64, 97, 62, 93]], dtype=int32)"
      ]
     },
     "execution_count": 17,
     "metadata": {},
     "output_type": "execute_result"
    }
   ],
   "source": [
    "score[0,:]\n",
    "score[0:1,:]"
   ]
  },
  {
   "cell_type": "code",
   "execution_count": null,
   "id": "7af92d5e",
   "metadata": {},
   "outputs": [
    {
     "data": {
      "text/plain": [
       "array([76. , 82. , 81.4, 76. , 81. , 80.8, 61. , 68.4, 74. , 77.4, 72.2,\n",
       "       76.2, 75.4, 72.4, 72.6, 67.4, 71.2, 73.2, 68.2, 77.2, 63.8, 72.4,\n",
       "       66.6, 81. , 64.6, 73.4, 73.8, 66.6, 71.8, 65. , 75.2, 77.4, 77.6,\n",
       "       71.8, 68.8, 68.2, 76. , 69.2, 78. , 65. , 68.4, 77. , 69.8, 84. ,\n",
       "       75.2, 76.4, 74.2, 76.8, 81.8, 70.6])"
      ]
     },
     "execution_count": 20,
     "metadata": {},
     "output_type": "execute_result"
    }
   ],
   "source": [
    "np.sum(score,axis = 1)\n",
    "np.mean(score,axis = 1)"
   ]
  },
  {
   "cell_type": "code",
   "execution_count": null,
   "id": "60d2ae88",
   "metadata": {},
   "outputs": [
    {
     "data": {
      "text/plain": [
       "array([False, False, False,  True, False])"
      ]
     },
     "execution_count": 26,
     "metadata": {},
     "output_type": "execute_result"
    }
   ],
   "source": [
    "#ndarray使用比較運算子\n",
    "arr = np.random.randn(5)\n",
    "arr > 0"
   ]
  },
  {
   "cell_type": "code",
   "execution_count": null,
   "id": "5a90e216",
   "metadata": {},
   "outputs": [
    {
     "data": {
      "text/plain": [
       "array([0, 0, 0, 1, 0])"
      ]
     },
     "execution_count": 29,
     "metadata": {},
     "output_type": "execute_result"
    }
   ],
   "source": [
    "#將大於 0 的傳出 1 否則傳出 0\n",
    "np.where(arr > 0,1,0)"
   ]
  },
  {
   "cell_type": "code",
   "execution_count": null,
   "id": "788cd067",
   "metadata": {},
   "outputs": [
    {
     "data": {
      "text/plain": [
       "array([-0.76514399, -0.5039068 , -0.90355478,  1.        , -1.08713566])"
      ]
     },
     "execution_count": 30,
     "metadata": {},
     "output_type": "execute_result"
    }
   ],
   "source": [
    "#把大於 0 的傳出 1 其餘的傳出原值\n",
    "np.where(arr > 0,1,arr)"
   ]
  }
 ],
 "metadata": {
  "kernelspec": {
   "display_name": "python24",
   "language": "python",
   "name": "python3"
  },
  "language_info": {
   "codemirror_mode": {
    "name": "ipython",
    "version": 3
   },
   "file_extension": ".py",
   "mimetype": "text/x-python",
   "name": "python",
   "nbconvert_exporter": "python",
   "pygments_lexer": "ipython3",
   "version": "3.11.11"
  }
 },
 "nbformat": 4,
 "nbformat_minor": 5
}
