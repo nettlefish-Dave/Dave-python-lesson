{
 "cells": [
  {
   "cell_type": "code",
   "execution_count": null,
   "id": "d9f34e93",
   "metadata": {},
   "outputs": [],
   "source": []
  }
 ],
 "metadata": {
  "kernelspec": {
   "display_name": "python24",
   "language": "python",
   "name": "python3"
  },
  "language_info": {
   "name": "python",
   "version": "3.11.11"
  }
 },
 "nbformat": 4,
 "nbformat_minor": 5
}
