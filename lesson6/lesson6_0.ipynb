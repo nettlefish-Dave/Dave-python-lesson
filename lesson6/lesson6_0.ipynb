{
 "cells": [
  {
   "cell_type": "markdown",
   "id": "6f76f794",
   "metadata": {},
   "source": [
    "### 結構化專案\n",
    "- 使用 .py 檔案 儲存程式碼\n",
    "- 使用終端機執行 python [檔案名稱].py 來執行\n",
    "- 初始化終端機 conda init --all bash 然後重新開啟終端機"
   ]
  }
 ],
 "metadata": {
  "kernelspec": {
   "display_name": "base",
   "language": "python",
   "name": "python3"
  },
  "language_info": {
   "name": "python",
   "version": "3.12.9"
  }
 },
 "nbformat": 4,
 "nbformat_minor": 5
}
