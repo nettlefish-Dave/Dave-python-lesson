{
 "cells": [
  {
   "cell_type": "markdown",
   "id": "1dd20e2e",
   "metadata": {},
   "source": [
    "### 流程控制"
   ]
  },
  {
   "cell_type": "code",
   "execution_count": null,
   "id": "23f00bee",
   "metadata": {},
   "outputs": [
    {
     "name": "stdout",
     "output_type": "stream",
     "text": [
      "程式結束\n"
     ]
    }
   ],
   "source": [
    "#單項選擇 有可能執行 也可能不執行\n",
    "if False:\n",
    "    print('這是True的程式區塊')\n",
    "    print('現在是True')\n",
    "print('程式結束')"
   ]
  },
  {
   "cell_type": "code",
   "execution_count": null,
   "id": "4e8a8190",
   "metadata": {},
   "outputs": [
    {
     "name": "stdout",
     "output_type": "stream",
     "text": [
      "這是False的程式區塊\n",
      "現在是False\n",
      "程式結束\n"
     ]
    }
   ],
   "source": [
    "#雙項選擇 \n",
    "#只要else存在 一定會執行其中一個程式區塊\n",
    "if False:\n",
    "    print('這是True的程式區塊')\n",
    "    print('現在是True')\n",
    "else:\n",
    "    print('這是False的程式區塊')\n",
    "    print('現在是False')\n",
    "print('程式結束')"
   ]
  },
  {
   "cell_type": "code",
   "execution_count": 8,
   "id": "ffaafc9f",
   "metadata": {},
   "outputs": [
    {
     "name": "stdout",
     "output_type": "stream",
     "text": [
      "可以考駕照\n",
      "判斷結束\n"
     ]
    }
   ],
   "source": [
    "age:int = int(input('請輸入你的年齡'))\n",
    "if age >= 18:\n",
    "    print('可以考駕照')\n",
    "else:\n",
    "    print('還不可以考駕照')\n",
    "print('判斷結束')"
   ]
  },
  {
   "cell_type": "code",
   "execution_count": 14,
   "id": "2ef53687",
   "metadata": {},
   "outputs": [
    {
     "name": "stdout",
     "output_type": "stream",
     "text": [
      "300\n"
     ]
    }
   ],
   "source": [
    "#學生總分300分\n",
    "#某些學生可以額外加總5%\n",
    "score:int = int(input('請輸入學生總分:'))\n",
    "add_in:str = input('學生是否符合加分條件(y/n):')\n",
    "if (add_in == 'y'):\n",
    "    score *= 1.05\n",
    "    if score > 300:\n",
    "        score = 300\n",
    "\n",
    "print(round(score))\n"
   ]
  },
  {
   "cell_type": "code",
   "execution_count": 15,
   "id": "20a961db",
   "metadata": {},
   "outputs": [
    {
     "name": "stdout",
     "output_type": "stream",
     "text": [
      "輸入出現錯誤\n",
      "300\n"
     ]
    }
   ],
   "source": [
    "#學生總分300分\n",
    "#某些學生可以額外加總5%\n",
    "try:\n",
    "    score:int = int(input('請輸入學生總分:'))\n",
    "    add_in:str = input('學生是否符合加分條件(y/n):')\n",
    "    if (add_in == 'y'):\n",
    "        score *= 1.05\n",
    "        if score > 300:\n",
    "            score = 300\n",
    "except:\n",
    "    print('輸入出現錯誤')\n",
    "\n",
    "print(round(score))"
   ]
  }
 ],
 "metadata": {
  "kernelspec": {
   "display_name": "base",
   "language": "python",
   "name": "python3"
  },
  "language_info": {
   "codemirror_mode": {
    "name": "ipython",
    "version": 3
   },
   "file_extension": ".py",
   "mimetype": "text/x-python",
   "name": "python",
   "nbconvert_exporter": "python",
   "pygments_lexer": "ipython3",
   "version": "3.12.9"
  }
 },
 "nbformat": 4,
 "nbformat_minor": 5
}
