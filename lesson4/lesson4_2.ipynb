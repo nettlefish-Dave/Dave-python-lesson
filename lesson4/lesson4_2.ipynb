{
 "cells": [
  {
   "cell_type": "code",
   "execution_count": 1,
   "id": "827ba173",
   "metadata": {},
   "outputs": [
    {
     "name": "stdout",
     "output_type": "stream",
     "text": [
      "數值在 120~220 區域中\n"
     ]
    }
   ],
   "source": [
    "value:int = int(input('請輸入一個數值:'))\n",
    "if value >= 120:\n",
    "    if value <= 220:\n",
    "        print('數值在 120~220 區域中')\n"
   ]
  },
  {
   "cell_type": "code",
   "execution_count": 2,
   "id": "342abfa7",
   "metadata": {},
   "outputs": [
    {
     "name": "stdout",
     "output_type": "stream",
     "text": [
      "數值 < 120\n"
     ]
    }
   ],
   "source": [
    "value:int = int(input('請輸入一個數值:'))\n",
    "if value < 120:\n",
    "    print('數值 < 120')\n",
    "if value > 220:\n",
    "    print('數值 > 220')\n"
   ]
  },
  {
   "cell_type": "code",
   "execution_count": 4,
   "id": "a5fd332d",
   "metadata": {},
   "outputs": [
    {
     "name": "stdout",
     "output_type": "stream",
     "text": [
      "數值在 120~220 區域中\n"
     ]
    }
   ],
   "source": [
    "#邏輯運算子\n",
    "value:int = int(input('請輸入一個數值:'))\n",
    "if value >= 120 and value <= 220:\n",
    "    print('數值在 120~220 區域中')"
   ]
  },
  {
   "cell_type": "code",
   "execution_count": 5,
   "id": "8fe2345d",
   "metadata": {},
   "outputs": [
    {
     "name": "stdout",
     "output_type": "stream",
     "text": [
      "數值在 120~220 之外\n"
     ]
    }
   ],
   "source": [
    "#邏輯運算子\n",
    "value:int = int(input('請輸入一個數值:'))\n",
    "if value < 120 or value > 220:\n",
    "    print('數值在 120~220 之外')"
   ]
  }
 ],
 "metadata": {
  "kernelspec": {
   "display_name": "base",
   "language": "python",
   "name": "python3"
  },
  "language_info": {
   "codemirror_mode": {
    "name": "ipython",
    "version": 3
   },
   "file_extension": ".py",
   "mimetype": "text/x-python",
   "name": "python",
   "nbconvert_exporter": "python",
   "pygments_lexer": "ipython3",
   "version": "3.12.9"
  }
 },
 "nbformat": 4,
 "nbformat_minor": 5
}
