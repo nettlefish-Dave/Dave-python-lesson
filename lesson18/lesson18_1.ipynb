{
 "cells": [
  {
   "cell_type": "code",
   "execution_count": null,
   "id": "c99d40fe",
   "metadata": {},
   "outputs": [],
   "source": [
    "import pandas as pd\n",
    "\n",
    "df = pd.read_csv(\"各鄉鎮市區人口密度.csv\")\n",
    "df1 = df.rename(columns={\"statistic_yyy\":\"統計年\",\n",
    "                   \"site_id\":\"區域別\",\n",
    "                   \"people_total\":\"年底人口數\",\n",
    "                   \"area\":\"土地面積\",\n",
    "                   \"population_density\":\"人口密度\"\n",
    "                   })\n",
    "df1"
   ]
  },
  {
   "cell_type": "markdown",
   "id": "2c5a8e79",
   "metadata": {},
   "source": [
    "### 更改欄位名稱"
   ]
  },
  {
   "cell_type": "code",
   "execution_count": null,
   "id": "efb22a4f",
   "metadata": {},
   "outputs": [],
   "source": [
    "df.columns = [\"統計年\",\"區域別\",\"年底人口數\",\"土地面積\",\"人口密度\"]\n",
    "df"
   ]
  },
  {
   "cell_type": "markdown",
   "id": "0e238646",
   "metadata": {},
   "source": [
    "### 刪除統計年"
   ]
  },
  {
   "cell_type": "code",
   "execution_count": null,
   "id": "92e956e8",
   "metadata": {},
   "outputs": [],
   "source": [
    "df2 = df.drop([\"統計年\"],axis=1)\n",
    "df2"
   ]
  },
  {
   "cell_type": "code",
   "execution_count": null,
   "id": "2bfa5157",
   "metadata": {},
   "outputs": [],
   "source": [
    "df3 = df2.dropna(axis=0)\n",
    "df3"
   ]
  },
  {
   "cell_type": "code",
   "execution_count": null,
   "id": "57c347bb",
   "metadata": {},
   "outputs": [],
   "source": [
    "df4 = df3.drop(index=0)\n",
    "df4"
   ]
  },
  {
   "cell_type": "code",
   "execution_count": 6,
   "id": "983cd4b3",
   "metadata": {},
   "outputs": [
    {
     "name": "stdout",
     "output_type": "stream",
     "text": [
      "<class 'pandas.core.frame.DataFrame'>\n",
      "Index: 370 entries, 1 to 370\n",
      "Data columns (total 4 columns):\n",
      " #   Column  Non-Null Count  Dtype \n",
      "---  ------  --------------  ----- \n",
      " 0   區域別     370 non-null    object\n",
      " 1   年底人口數   370 non-null    object\n",
      " 2   土地面積    370 non-null    object\n",
      " 3   人口密度    370 non-null    object\n",
      "dtypes: object(4)\n",
      "memory usage: 14.5+ KB\n"
     ]
    }
   ],
   "source": [
    "df4.info()"
   ]
  },
  {
   "cell_type": "code",
   "execution_count": 7,
   "id": "d00d9333",
   "metadata": {},
   "outputs": [],
   "source": [
    "# df4['年底人口數'].astype(int) #無法轉換\n",
    "def string_to_int(value:str):\n",
    "    try:\n",
    "        v = int(value)\n",
    "        return v\n",
    "    except Exception:\n",
    "        return 0\n",
    "    \n",
    "df4[\"年底人口數\"] = df4[\"年底人口數\"].map(string_to_int)\n",
    "df4[\"人口密度\"] = df4[\"人口密度\"].apply(string_to_int)"
   ]
  },
  {
   "cell_type": "code",
   "execution_count": 8,
   "id": "f7c71dc9",
   "metadata": {},
   "outputs": [
    {
     "name": "stdout",
     "output_type": "stream",
     "text": [
      "<class 'pandas.core.frame.DataFrame'>\n",
      "Index: 370 entries, 1 to 370\n",
      "Data columns (total 4 columns):\n",
      " #   Column  Non-Null Count  Dtype \n",
      "---  ------  --------------  ----- \n",
      " 0   區域別     370 non-null    object\n",
      " 1   年底人口數   370 non-null    int64 \n",
      " 2   土地面積    370 non-null    object\n",
      " 3   人口密度    370 non-null    int64 \n",
      "dtypes: int64(2), object(2)\n",
      "memory usage: 14.5+ KB\n"
     ]
    }
   ],
   "source": [
    "df4.info()"
   ]
  },
  {
   "cell_type": "code",
   "execution_count": 9,
   "id": "29a0cec4",
   "metadata": {},
   "outputs": [],
   "source": [
    "df4['土地面積'] = df4['土地面積'].astype(float)"
   ]
  },
  {
   "cell_type": "code",
   "execution_count": 10,
   "id": "2aca16de",
   "metadata": {},
   "outputs": [
    {
     "name": "stdout",
     "output_type": "stream",
     "text": [
      "<class 'pandas.core.frame.DataFrame'>\n",
      "Index: 370 entries, 1 to 370\n",
      "Data columns (total 4 columns):\n",
      " #   Column  Non-Null Count  Dtype  \n",
      "---  ------  --------------  -----  \n",
      " 0   區域別     370 non-null    object \n",
      " 1   年底人口數   370 non-null    int64  \n",
      " 2   土地面積    370 non-null    float64\n",
      " 3   人口密度    370 non-null    int64  \n",
      "dtypes: float64(1), int64(2), object(1)\n",
      "memory usage: 14.5+ KB\n"
     ]
    }
   ],
   "source": [
    "df4.info()"
   ]
  },
  {
   "cell_type": "code",
   "execution_count": 11,
   "id": "70334cc9",
   "metadata": {},
   "outputs": [
    {
     "data": {
      "text/html": [
       "<div>\n",
       "<style scoped>\n",
       "    .dataframe tbody tr th:only-of-type {\n",
       "        vertical-align: middle;\n",
       "    }\n",
       "\n",
       "    .dataframe tbody tr th {\n",
       "        vertical-align: top;\n",
       "    }\n",
       "\n",
       "    .dataframe thead th {\n",
       "        text-align: right;\n",
       "    }\n",
       "</style>\n",
       "<table border=\"1\" class=\"dataframe\">\n",
       "  <thead>\n",
       "    <tr style=\"text-align: right;\">\n",
       "      <th></th>\n",
       "      <th>區域別</th>\n",
       "      <th>年底人口數</th>\n",
       "      <th>土地面積</th>\n",
       "      <th>人口密度</th>\n",
       "    </tr>\n",
       "  </thead>\n",
       "  <tbody>\n",
       "    <tr>\n",
       "      <th>1</th>\n",
       "      <td>新北市板橋區</td>\n",
       "      <td>551480</td>\n",
       "      <td>23.1373</td>\n",
       "      <td>23835</td>\n",
       "    </tr>\n",
       "    <tr>\n",
       "      <th>2</th>\n",
       "      <td>新北市三重區</td>\n",
       "      <td>387484</td>\n",
       "      <td>16.3170</td>\n",
       "      <td>23747</td>\n",
       "    </tr>\n",
       "    <tr>\n",
       "      <th>3</th>\n",
       "      <td>新北市中和區</td>\n",
       "      <td>413590</td>\n",
       "      <td>20.1440</td>\n",
       "      <td>20532</td>\n",
       "    </tr>\n",
       "    <tr>\n",
       "      <th>4</th>\n",
       "      <td>新北市永和區</td>\n",
       "      <td>222585</td>\n",
       "      <td>5.7138</td>\n",
       "      <td>38956</td>\n",
       "    </tr>\n",
       "    <tr>\n",
       "      <th>5</th>\n",
       "      <td>新北市新莊區</td>\n",
       "      <td>416524</td>\n",
       "      <td>19.7383</td>\n",
       "      <td>21102</td>\n",
       "    </tr>\n",
       "    <tr>\n",
       "      <th>...</th>\n",
       "      <td>...</td>\n",
       "      <td>...</td>\n",
       "      <td>...</td>\n",
       "      <td>...</td>\n",
       "    </tr>\n",
       "    <tr>\n",
       "      <th>366</th>\n",
       "      <td>連江縣北竿鄉</td>\n",
       "      <td>2360</td>\n",
       "      <td>9.9000</td>\n",
       "      <td>238</td>\n",
       "    </tr>\n",
       "    <tr>\n",
       "      <th>367</th>\n",
       "      <td>連江縣莒光鄉</td>\n",
       "      <td>1624</td>\n",
       "      <td>4.7000</td>\n",
       "      <td>346</td>\n",
       "    </tr>\n",
       "    <tr>\n",
       "      <th>368</th>\n",
       "      <td>連江縣東引鄉</td>\n",
       "      <td>1352</td>\n",
       "      <td>3.8000</td>\n",
       "      <td>356</td>\n",
       "    </tr>\n",
       "    <tr>\n",
       "      <th>369</th>\n",
       "      <td>東沙群島</td>\n",
       "      <td>0</td>\n",
       "      <td>2.3800</td>\n",
       "      <td>0</td>\n",
       "    </tr>\n",
       "    <tr>\n",
       "      <th>370</th>\n",
       "      <td>南沙群島</td>\n",
       "      <td>0</td>\n",
       "      <td>0.5045</td>\n",
       "      <td>0</td>\n",
       "    </tr>\n",
       "  </tbody>\n",
       "</table>\n",
       "<p>370 rows × 4 columns</p>\n",
       "</div>"
      ],
      "text/plain": [
       "        區域別   年底人口數     土地面積   人口密度\n",
       "1    新北市板橋區  551480  23.1373  23835\n",
       "2    新北市三重區  387484  16.3170  23747\n",
       "3    新北市中和區  413590  20.1440  20532\n",
       "4    新北市永和區  222585   5.7138  38956\n",
       "5    新北市新莊區  416524  19.7383  21102\n",
       "..      ...     ...      ...    ...\n",
       "366  連江縣北竿鄉    2360   9.9000    238\n",
       "367  連江縣莒光鄉    1624   4.7000    346\n",
       "368  連江縣東引鄉    1352   3.8000    356\n",
       "369    東沙群島       0   2.3800      0\n",
       "370    南沙群島       0   0.5045      0\n",
       "\n",
       "[370 rows x 4 columns]"
      ]
     },
     "execution_count": 11,
     "metadata": {},
     "output_type": "execute_result"
    }
   ],
   "source": [
    "df4"
   ]
  },
  {
   "cell_type": "code",
   "execution_count": 12,
   "id": "e17aa1a3",
   "metadata": {},
   "outputs": [],
   "source": [
    "def split_words(v:str):\n",
    "    if len(v) == 6:\n",
    "        return v[:3]\n",
    "    else:\n",
    "        return v\n",
    "\n",
    "df4[\"縣市\"] = df4['區域別'].map(split_words)"
   ]
  },
  {
   "cell_type": "code",
   "execution_count": 13,
   "id": "dc409ef6",
   "metadata": {},
   "outputs": [],
   "source": [
    "def split_area(v:str):\n",
    "    if len(v) == 6:\n",
    "        return v[-3:]\n",
    "    else:\n",
    "        return v\n",
    "df4['區域別'] = df4['區域別'].map(split_area)"
   ]
  },
  {
   "cell_type": "code",
   "execution_count": 14,
   "id": "c076531d",
   "metadata": {},
   "outputs": [
    {
     "data": {
      "text/html": [
       "<div>\n",
       "<style scoped>\n",
       "    .dataframe tbody tr th:only-of-type {\n",
       "        vertical-align: middle;\n",
       "    }\n",
       "\n",
       "    .dataframe tbody tr th {\n",
       "        vertical-align: top;\n",
       "    }\n",
       "\n",
       "    .dataframe thead th {\n",
       "        text-align: right;\n",
       "    }\n",
       "</style>\n",
       "<table border=\"1\" class=\"dataframe\">\n",
       "  <thead>\n",
       "    <tr style=\"text-align: right;\">\n",
       "      <th></th>\n",
       "      <th>區域別</th>\n",
       "      <th>年底人口數</th>\n",
       "      <th>土地面積</th>\n",
       "      <th>人口密度</th>\n",
       "      <th>縣市</th>\n",
       "    </tr>\n",
       "  </thead>\n",
       "  <tbody>\n",
       "    <tr>\n",
       "      <th>1</th>\n",
       "      <td>板橋區</td>\n",
       "      <td>551480</td>\n",
       "      <td>23.1373</td>\n",
       "      <td>23835</td>\n",
       "      <td>新北市</td>\n",
       "    </tr>\n",
       "    <tr>\n",
       "      <th>2</th>\n",
       "      <td>三重區</td>\n",
       "      <td>387484</td>\n",
       "      <td>16.3170</td>\n",
       "      <td>23747</td>\n",
       "      <td>新北市</td>\n",
       "    </tr>\n",
       "    <tr>\n",
       "      <th>3</th>\n",
       "      <td>中和區</td>\n",
       "      <td>413590</td>\n",
       "      <td>20.1440</td>\n",
       "      <td>20532</td>\n",
       "      <td>新北市</td>\n",
       "    </tr>\n",
       "    <tr>\n",
       "      <th>4</th>\n",
       "      <td>永和區</td>\n",
       "      <td>222585</td>\n",
       "      <td>5.7138</td>\n",
       "      <td>38956</td>\n",
       "      <td>新北市</td>\n",
       "    </tr>\n",
       "    <tr>\n",
       "      <th>5</th>\n",
       "      <td>新莊區</td>\n",
       "      <td>416524</td>\n",
       "      <td>19.7383</td>\n",
       "      <td>21102</td>\n",
       "      <td>新北市</td>\n",
       "    </tr>\n",
       "    <tr>\n",
       "      <th>...</th>\n",
       "      <td>...</td>\n",
       "      <td>...</td>\n",
       "      <td>...</td>\n",
       "      <td>...</td>\n",
       "      <td>...</td>\n",
       "    </tr>\n",
       "    <tr>\n",
       "      <th>366</th>\n",
       "      <td>北竿鄉</td>\n",
       "      <td>2360</td>\n",
       "      <td>9.9000</td>\n",
       "      <td>238</td>\n",
       "      <td>連江縣</td>\n",
       "    </tr>\n",
       "    <tr>\n",
       "      <th>367</th>\n",
       "      <td>莒光鄉</td>\n",
       "      <td>1624</td>\n",
       "      <td>4.7000</td>\n",
       "      <td>346</td>\n",
       "      <td>連江縣</td>\n",
       "    </tr>\n",
       "    <tr>\n",
       "      <th>368</th>\n",
       "      <td>東引鄉</td>\n",
       "      <td>1352</td>\n",
       "      <td>3.8000</td>\n",
       "      <td>356</td>\n",
       "      <td>連江縣</td>\n",
       "    </tr>\n",
       "    <tr>\n",
       "      <th>369</th>\n",
       "      <td>東沙群島</td>\n",
       "      <td>0</td>\n",
       "      <td>2.3800</td>\n",
       "      <td>0</td>\n",
       "      <td>東沙群島</td>\n",
       "    </tr>\n",
       "    <tr>\n",
       "      <th>370</th>\n",
       "      <td>南沙群島</td>\n",
       "      <td>0</td>\n",
       "      <td>0.5045</td>\n",
       "      <td>0</td>\n",
       "      <td>南沙群島</td>\n",
       "    </tr>\n",
       "  </tbody>\n",
       "</table>\n",
       "<p>370 rows × 5 columns</p>\n",
       "</div>"
      ],
      "text/plain": [
       "      區域別   年底人口數     土地面積   人口密度    縣市\n",
       "1     板橋區  551480  23.1373  23835   新北市\n",
       "2     三重區  387484  16.3170  23747   新北市\n",
       "3     中和區  413590  20.1440  20532   新北市\n",
       "4     永和區  222585   5.7138  38956   新北市\n",
       "5     新莊區  416524  19.7383  21102   新北市\n",
       "..    ...     ...      ...    ...   ...\n",
       "366   北竿鄉    2360   9.9000    238   連江縣\n",
       "367   莒光鄉    1624   4.7000    346   連江縣\n",
       "368   東引鄉    1352   3.8000    356   連江縣\n",
       "369  東沙群島       0   2.3800      0  東沙群島\n",
       "370  南沙群島       0   0.5045      0  南沙群島\n",
       "\n",
       "[370 rows x 5 columns]"
      ]
     },
     "execution_count": 14,
     "metadata": {},
     "output_type": "execute_result"
    }
   ],
   "source": [
    "df4"
   ]
  },
  {
   "cell_type": "code",
   "execution_count": 15,
   "id": "5060a54d",
   "metadata": {},
   "outputs": [],
   "source": [
    "df5 = df4.reindex(columns=[\"區域別\",\"縣市\",\"年底人口數\",\"土地面積\",\"人口密度\"])\n",
    "df6 = df5.set_index('區域別')"
   ]
  },
  {
   "cell_type": "code",
   "execution_count": 16,
   "id": "cd7cb5d0",
   "metadata": {},
   "outputs": [],
   "source": [
    "df6.to_excel('各鄉鎮市區人口密度.xlsx',index=True)"
   ]
  }
 ],
 "metadata": {
  "kernelspec": {
   "display_name": "python24",
   "language": "python",
   "name": "python3"
  },
  "language_info": {
   "codemirror_mode": {
    "name": "ipython",
    "version": 3
   },
   "file_extension": ".py",
   "mimetype": "text/x-python",
   "name": "python",
   "nbconvert_exporter": "python",
   "pygments_lexer": "ipython3",
   "version": "3.11.11"
  }
 },
 "nbformat": 4,
 "nbformat_minor": 5
}
