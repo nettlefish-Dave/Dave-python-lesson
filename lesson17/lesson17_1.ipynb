{
 "cells": [
  {
   "cell_type": "code",
   "execution_count": 4,
   "id": "4b3e7288",
   "metadata": {},
   "outputs": [
    {
     "data": {
      "text/html": [
       "<div>\n",
       "<style scoped>\n",
       "    .dataframe tbody tr th:only-of-type {\n",
       "        vertical-align: middle;\n",
       "    }\n",
       "\n",
       "    .dataframe tbody tr th {\n",
       "        vertical-align: top;\n",
       "    }\n",
       "\n",
       "    .dataframe thead th {\n",
       "        text-align: right;\n",
       "    }\n",
       "</style>\n",
       "<table border=\"1\" class=\"dataframe\">\n",
       "  <thead>\n",
       "    <tr style=\"text-align: right;\">\n",
       "      <th></th>\n",
       "      <th>strings</th>\n",
       "      <th>ints</th>\n",
       "      <th>floats</th>\n",
       "    </tr>\n",
       "  </thead>\n",
       "  <tbody>\n",
       "    <tr>\n",
       "      <th>0</th>\n",
       "      <td>Adam</td>\n",
       "      <td>1</td>\n",
       "      <td>1.123</td>\n",
       "    </tr>\n",
       "    <tr>\n",
       "      <th>1</th>\n",
       "      <td>Mike</td>\n",
       "      <td>3</td>\n",
       "      <td>1000.230</td>\n",
       "    </tr>\n",
       "  </tbody>\n",
       "</table>\n",
       "</div>"
      ],
      "text/plain": [
       "  strings  ints    floats\n",
       "0    Adam     1     1.123\n",
       "1    Mike     3  1000.230"
      ]
     },
     "metadata": {},
     "output_type": "display_data"
    },
    {
     "data": {
      "text/html": [
       "<style type=\"text/css\">\n",
       "</style>\n",
       "<table id=\"T_03844\">\n",
       "  <thead>\n",
       "    <tr>\n",
       "      <th class=\"blank level0\" >&nbsp;</th>\n",
       "      <th id=\"T_03844_level0_col0\" class=\"col_heading level0 col0\" >STRINGS</th>\n",
       "      <th id=\"T_03844_level0_col1\" class=\"col_heading level0 col1\" >INTS</th>\n",
       "      <th id=\"T_03844_level0_col2\" class=\"col_heading level0 col2\" >FLOATS</th>\n",
       "    </tr>\n",
       "  </thead>\n",
       "  <tbody>\n",
       "    <tr>\n",
       "      <th id=\"T_03844_level0_row0\" class=\"row_heading level0 row0\" >列1</th>\n",
       "      <td id=\"T_03844_row0_col0\" class=\"data row0 col0\" >Adam</td>\n",
       "      <td id=\"T_03844_row0_col1\" class=\"data row0 col1\" >1</td>\n",
       "      <td id=\"T_03844_row0_col2\" class=\"data row0 col2\" >1.123</td>\n",
       "    </tr>\n",
       "    <tr>\n",
       "      <th id=\"T_03844_level0_row1\" class=\"row_heading level0 row1\" >列2</th>\n",
       "      <td id=\"T_03844_row1_col0\" class=\"data row1 col0\" >Mike</td>\n",
       "      <td id=\"T_03844_row1_col1\" class=\"data row1 col1\" >3</td>\n",
       "      <td id=\"T_03844_row1_col2\" class=\"data row1 col2\" >1,000.230</td>\n",
       "    </tr>\n",
       "  </tbody>\n",
       "</table>\n"
      ],
      "text/plain": [
       "<pandas.io.formats.style.Styler at 0x2386a391b50>"
      ]
     },
     "execution_count": 4,
     "metadata": {},
     "output_type": "execute_result"
    }
   ],
   "source": [
    "#Styler.format()\n",
    "#Style.format_index()\n",
    "#Style.relabel_index()\n",
    "\n",
    "import pandas as pd\n",
    "import numpy as np \n",
    "\n",
    "df = pd.DataFrame({\n",
    "    \"strings\": [\"Adam\", \"Mike\"],\n",
    "    \"ints\": [1, 3],\n",
    "    \"floats\": [1.123, 1000.23]\n",
    "})\n",
    "#type(df.style)\n",
    "\n",
    "display(df)\n",
    "s = df.style.\\\n",
    "format(precision=3, thousands=\",\", decimal='.').\\\n",
    "format_index(str.upper,axis=1).\\\n",
    "relabel_index([\"列1\",\"列2\"])\\\n",
    "\n",
    "s\n"
   ]
  },
  {
   "cell_type": "code",
   "execution_count": 7,
   "id": "3662f134",
   "metadata": {},
   "outputs": [
    {
     "name": "stdout",
     "output_type": "stream",
     "text": [
      "<class 'pandas.core.frame.DataFrame'>\n",
      "DatetimeIndex: 50 entries, 2024-01-01 to 2024-02-19\n",
      "Freq: D\n",
      "Data columns (total 2 columns):\n",
      " #   Column  Non-Null Count  Dtype  \n",
      "---  ------  --------------  -----  \n",
      " 0   Tokyo   50 non-null     float64\n",
      " 1   Taipei  50 non-null     float64\n",
      "dtypes: float64(2)\n",
      "memory usage: 1.2 KB\n"
     ]
    }
   ],
   "source": [
    "weather_df = pd.DataFrame(np.random.rand(50,2)*5,\n",
    "                          index=pd.date_range(start=\"2024-01-01\", periods=50),\n",
    "                          columns=[\"Tokyo\",\"Taipei\"]\n",
    "                          )\n",
    "weather_df.info()"
   ]
  },
  {
   "cell_type": "code",
   "execution_count": null,
   "id": "9ac31e30",
   "metadata": {},
   "outputs": [
    {
     "data": {
      "text/html": [
       "<div>\n",
       "<style scoped>\n",
       "    .dataframe tbody tr th:only-of-type {\n",
       "        vertical-align: middle;\n",
       "    }\n",
       "\n",
       "    .dataframe tbody tr th {\n",
       "        vertical-align: top;\n",
       "    }\n",
       "\n",
       "    .dataframe thead th {\n",
       "        text-align: right;\n",
       "    }\n",
       "</style>\n",
       "<table border=\"1\" class=\"dataframe\">\n",
       "  <thead>\n",
       "    <tr style=\"text-align: right;\">\n",
       "      <th></th>\n",
       "      <th>東京</th>\n",
       "      <th>台北</th>\n",
       "    </tr>\n",
       "  </thead>\n",
       "  <tbody>\n",
       "    <tr>\n",
       "      <th>2024-01-01</th>\n",
       "      <td>2.672950</td>\n",
       "      <td>0.139910</td>\n",
       "    </tr>\n",
       "    <tr>\n",
       "      <th>2024-01-02</th>\n",
       "      <td>2.358676</td>\n",
       "      <td>1.685802</td>\n",
       "    </tr>\n",
       "    <tr>\n",
       "      <th>2024-01-03</th>\n",
       "      <td>0.667719</td>\n",
       "      <td>4.897309</td>\n",
       "    </tr>\n",
       "    <tr>\n",
       "      <th>2024-01-04</th>\n",
       "      <td>3.020837</td>\n",
       "      <td>4.612991</td>\n",
       "    </tr>\n",
       "    <tr>\n",
       "      <th>2024-01-05</th>\n",
       "      <td>3.333722</td>\n",
       "      <td>0.921374</td>\n",
       "    </tr>\n",
       "    <tr>\n",
       "      <th>...</th>\n",
       "      <td>...</td>\n",
       "      <td>...</td>\n",
       "    </tr>\n",
       "    <tr>\n",
       "      <th>2024-12-27</th>\n",
       "      <td>4.024529</td>\n",
       "      <td>0.704354</td>\n",
       "    </tr>\n",
       "    <tr>\n",
       "      <th>2024-12-28</th>\n",
       "      <td>4.927824</td>\n",
       "      <td>3.068804</td>\n",
       "    </tr>\n",
       "    <tr>\n",
       "      <th>2024-12-29</th>\n",
       "      <td>0.748275</td>\n",
       "      <td>3.977263</td>\n",
       "    </tr>\n",
       "    <tr>\n",
       "      <th>2024-12-30</th>\n",
       "      <td>0.249342</td>\n",
       "      <td>3.245806</td>\n",
       "    </tr>\n",
       "    <tr>\n",
       "      <th>2024-12-31</th>\n",
       "      <td>2.878718</td>\n",
       "      <td>4.139896</td>\n",
       "    </tr>\n",
       "  </tbody>\n",
       "</table>\n",
       "<p>366 rows × 2 columns</p>\n",
       "</div>"
      ],
      "text/plain": [
       "                  東京        台北\n",
       "2024-01-01  2.672950  0.139910\n",
       "2024-01-02  2.358676  1.685802\n",
       "2024-01-03  0.667719  4.897309\n",
       "2024-01-04  3.020837  4.612991\n",
       "2024-01-05  3.333722  0.921374\n",
       "...              ...       ...\n",
       "2024-12-27  4.024529  0.704354\n",
       "2024-12-28  4.927824  3.068804\n",
       "2024-12-29  0.748275  3.977263\n",
       "2024-12-30  0.249342  3.245806\n",
       "2024-12-31  2.878718  4.139896\n",
       "\n",
       "[366 rows x 2 columns]"
      ]
     },
     "execution_count": 6,
     "metadata": {},
     "output_type": "execute_result"
    }
   ],
   "source": [
    "#因為索引是datetime的資料 可以用來做切割\n",
    "# weather_df.loc['2024-01-10':'2024-01-30']\n",
    "# weather_df.loc['2024-01']\n",
    "# weather_df.loc['2024']"
   ]
  },
  {
   "cell_type": "code",
   "execution_count": 8,
   "id": "dc469ec8",
   "metadata": {},
   "outputs": [
    {
     "data": {
      "image/png": "[encoded data removed]",
      "text/plain": [
       "<Figure size 1000x600 with 1 Axes>"
      ]
     },
     "metadata": {},
     "output_type": "display_data"
    }
   ],
   "source": [
    "import matplotlib.pyplot as plt\n",
    "\n",
    "figure = plt.figure(figsize=(10,6))\n",
    "axes = figure.add_subplot(1,1,1)\n",
    "axes.plot(weather_df.index,weather_df['Tokyo'],label='Tokyyo',linestyle='',marker='.')\n",
    "axes.plot(weather_df.index,weather_df['Taipei'],label='Taiepi',linestyle='',marker='.')\n",
    "plt.show()\n",
    "plt.close()"
   ]
  },
  {
   "cell_type": "code",
   "execution_count": 9,
   "id": "5f3ed07a",
   "metadata": {},
   "outputs": [
    {
     "data": {
      "image/png": "[encoded data removed]",
      "text/plain": [
       "<Figure size 1000x600 with 1 Axes>"
      ]
     },
     "metadata": {},
     "output_type": "display_data"
    }
   ],
   "source": [
    "figure = plt.figure(figsize=(10,6))\n",
    "axes = figure.add_subplot(1,1,1)\n",
    "weather_df.plot(ax=axes,linestyle='',marker='.')\n",
    "plt.show()\n",
    "plt.close()"
   ]
  },
  {
   "cell_type": "code",
   "execution_count": 14,
   "id": "60256627",
   "metadata": {},
   "outputs": [
    {
     "data": {
      "text/html": [
       "<div>\n",
       "<style scoped>\n",
       "    .dataframe tbody tr th:only-of-type {\n",
       "        vertical-align: middle;\n",
       "    }\n",
       "\n",
       "    .dataframe tbody tr th {\n",
       "        vertical-align: top;\n",
       "    }\n",
       "\n",
       "    .dataframe thead th {\n",
       "        text-align: right;\n",
       "    }\n",
       "</style>\n",
       "<table border=\"1\" class=\"dataframe\">\n",
       "  <thead>\n",
       "    <tr style=\"text-align: right;\">\n",
       "      <th></th>\n",
       "      <th>Tokyo</th>\n",
       "      <th>Taipei</th>\n",
       "    </tr>\n",
       "  </thead>\n",
       "  <tbody>\n",
       "    <tr>\n",
       "      <th>2024-01-01</th>\n",
       "      <td>2.446635</td>\n",
       "      <td>0.296662</td>\n",
       "    </tr>\n",
       "    <tr>\n",
       "      <th>2024-01-02</th>\n",
       "      <td>1.831012</td>\n",
       "      <td>2.594327</td>\n",
       "    </tr>\n",
       "    <tr>\n",
       "      <th>2024-01-03</th>\n",
       "      <td>2.991125</td>\n",
       "      <td>2.153072</td>\n",
       "    </tr>\n",
       "    <tr>\n",
       "      <th>2024-01-04</th>\n",
       "      <td>0.893170</td>\n",
       "      <td>1.426269</td>\n",
       "    </tr>\n",
       "    <tr>\n",
       "      <th>2024-01-05</th>\n",
       "      <td>0.357193</td>\n",
       "      <td>0.923567</td>\n",
       "    </tr>\n",
       "    <tr>\n",
       "      <th>2024-01-06</th>\n",
       "      <td>0.439140</td>\n",
       "      <td>3.682343</td>\n",
       "    </tr>\n",
       "    <tr>\n",
       "      <th>2024-01-07</th>\n",
       "      <td>0.979593</td>\n",
       "      <td>3.841705</td>\n",
       "    </tr>\n",
       "    <tr>\n",
       "      <th>2024-01-08</th>\n",
       "      <td>3.187509</td>\n",
       "      <td>3.982030</td>\n",
       "    </tr>\n",
       "    <tr>\n",
       "      <th>2024-01-09</th>\n",
       "      <td>3.940964</td>\n",
       "      <td>2.084386</td>\n",
       "    </tr>\n",
       "    <tr>\n",
       "      <th>2024-01-10</th>\n",
       "      <td>3.943212</td>\n",
       "      <td>0.514874</td>\n",
       "    </tr>\n",
       "  </tbody>\n",
       "</table>\n",
       "</div>"
      ],
      "text/plain": [
       "               Tokyo    Taipei\n",
       "2024-01-01  2.446635  0.296662\n",
       "2024-01-02  1.831012  2.594327\n",
       "2024-01-03  2.991125  2.153072\n",
       "2024-01-04  0.893170  1.426269\n",
       "2024-01-05  0.357193  0.923567\n",
       "2024-01-06  0.439140  3.682343\n",
       "2024-01-07  0.979593  3.841705\n",
       "2024-01-08  3.187509  3.982030\n",
       "2024-01-09  3.940964  2.084386\n",
       "2024-01-10  3.943212  0.514874"
      ]
     },
     "metadata": {},
     "output_type": "display_data"
    }
   ],
   "source": [
    "np.random.seed(5678)\n",
    "weather_df = pd.DataFrame(np.random.rand(10,2)*5,\n",
    "                          index=pd.date_range(start=\"2024-01-01\", periods=10),\n",
    "                          columns=[\"Tokyo\",\"Taipei\"]\n",
    "                          )\n",
    "display(weather_df)\n",
    "def rain_condition(v):\n",
    "    if v < 1.75:\n",
    "        return \"乾燥\"\n",
    "    elif v < 2.75:\n",
    "        return \"小雨\"\n",
    "    else:\n",
    "        return \"大雨\"\n",
    "\n",
    "def make_pretty(styler):\n",
    "    styler.set_caption(\"天氣狀況\")\n",
    "    styler.format(rain_condition)\n",
    "    styler.format_index(formatter=lambda v:v.strftime(\"%Y/%m/%d %A\"))\n",
    "    styler.background_gradient(axis=None,vmin=1,vmax=5,cmap=\"PuBuGn\")\n",
    "    return styler\n",
    "\n",
    "s = weather_df.loc['2024-01-01':'2024-01-07'].style.pipe(make_pretty)\n",
    "s.to_excel('weather_condition.xlsx')"
   ]
  }
 ],
 "metadata": {
  "kernelspec": {
   "display_name": "python24",
   "language": "python",
   "name": "python3"
  },
  "language_info": {
   "codemirror_mode": {
    "name": "ipython",
    "version": 3
   },
   "file_extension": ".py",
   "mimetype": "text/x-python",
   "name": "python",
   "nbconvert_exporter": "python",
   "pygments_lexer": "ipython3",
   "version": "3.11.11"
  }
 },
 "nbformat": 4,
 "nbformat_minor": 5
}
