{
 "cells": [
  {
   "cell_type": "code",
   "execution_count": 4,
   "id": "8649d7d3",
   "metadata": {},
   "outputs": [],
   "source": [
    "import numpy as np\n",
    "import pandas as pd\n",
    "\n",
    "scores = np.random.randint(50,101,size=(50,5))\n",
    "score_pd = pd.DataFrame(scores,columns=(['國文','英文','數學','公民','體育']),\n",
    "                        index=(f'學生{index}' for index  in range(1,51)))\n",
    "score_pd.columns.name = '科目'\n",
    "score_pd.index.name = '學號'\n",
    "score_pd.to_excel('三年五班.xlsx',index=True)"
   ]
  },
  {
   "cell_type": "code",
   "execution_count": 25,
   "id": "58688ee4",
   "metadata": {},
   "outputs": [],
   "source": [
    "import os\n",
    "# 無需在此處定義 excel_folder, script_folder, excel_name, excel_path，因為它們已經存在於 Notebook 變數中\n",
    "def rank(filepath: str):\n",
    "    df = pd.read_excel(filepath, index_col='學號')\n",
    "\n",
    "    sum_series = df.sum(axis=1)\n",
    "    mean_series = df.mean(axis=1)\n",
    "    df['總分'] = sum_series\n",
    "    df['平均'] = mean_series\n",
    "\n",
    "    df = df.sort_values(by='總分', ascending=False)\n",
    "    rank_series = df['總分'].rank(ascending=False, method='min')\n",
    "    df['名次'] = rank_series\n",
    "\n",
    "    # 儲存到 Excel_finish 資料夾\n",
    "    excel_finish_folder = os.path.join(script_folder, 'Excel_finish')\n",
    "    os.makedirs(excel_finish_folder, exist_ok=True)\n",
    "    filename = os.path.basename(filepath)\n",
    "    save_path = os.path.join(excel_finish_folder, filename)\n",
    "    df.to_excel(save_path, index=True, sheet_name='成績排名')\n",
    "\n",
    "# 處理 excel_folder 內所有檔案\n",
    "for excel_name in os.listdir(excel_folder):\n",
    "    excel_path = os.path.join(excel_folder, excel_name)\n",
    "    rank(excel_path)\n"
   ]
  }
 ],
 "metadata": {
  "kernelspec": {
   "display_name": "python24",
   "language": "python",
   "name": "python3"
  },
  "language_info": {
   "codemirror_mode": {
    "name": "ipython",
    "version": 3
   },
   "file_extension": ".py",
   "mimetype": "text/x-python",
   "name": "python",
   "nbconvert_exporter": "python",
   "pygments_lexer": "ipython3",
   "version": "3.11.11"
  }
 },
 "nbformat": 4,
 "nbformat_minor": 5
}
