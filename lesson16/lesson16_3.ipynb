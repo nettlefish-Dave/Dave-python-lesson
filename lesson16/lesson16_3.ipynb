{
 "cells": [
  {
   "cell_type": "code",
   "execution_count": 4,
   "id": "8649d7d3",
   "metadata": {},
   "outputs": [],
   "source": [
    "import numpy as np\n",
    "import pandas as pd\n",
    "\n",
    "scores = np.random.randint(50,101,size=(50,5))\n",
    "score_pd = pd.DataFrame(scores,columns=(['國文','英文','數學','公民','體育']),\n",
    "                        index=(f'學生{index}' for index  in range(1,51)))\n",
    "score_pd.columns.name = '科目'\n",
    "score_pd.index.name = '學號'\n",
    "score_pd.to_excel('三年五班.xlsx',index=True)"
   ]
  },
  {
   "cell_type": "code",
   "execution_count": 24,
   "id": "58688ee4",
   "metadata": {},
   "outputs": [],
   "source": [
    "import os\n",
    "import pandas as pd\n",
    "\n",
    "def rank(filepath:str):\n",
    "    df = pd.read_excel(filepath,index_col='學號')\n",
    "\n",
    "    sum_series = np.sum(df,axis=1)\n",
    "    mean_series = df.mean(axis=1)\n",
    "    df['總分'] = sum_series\n",
    "    df['平均'] = mean_series\n",
    "\n",
    "    df = df.sort_values(by='總分',ascending=False)\n",
    "    rank_series = df['總分'].rank(ascending=False,method='min')\n",
    "    df['名次'] = rank_series\n",
    "\n",
    "    script_path = os.path.realpath(__name__)\n",
    "    script_folder = os.path.dirname(script_path)\n",
    "    excel_folder = os.path.join(script_folder,'Excel_finish')\n",
    "    filename = os.path.basename(filepath)\n",
    "    filename = os.path.join(excel_folder,filename)\n",
    "    df.to_excel(filename,index=True)\n",
    "\n",
    "#找到當前檔案位置\n",
    "script_path = os.path.realpath(__name__)\n",
    "#找出目錄位置\n",
    "script_folder = os.path.dirname(script_path)\n",
    "#將Excel加入目錄路徑中\n",
    "excel_folder = os.path.join(script_folder,'Excel')\n",
    "#找出目標檔案的絕對路徑\n",
    "for excel_name in os.listdir(excel_folder):\n",
    "    excel_path = os.path.join(excel_folder,excel_name)\n",
    "    #print(excel_path)\n",
    "    rank(excel_path)"
   ]
  }
 ],
 "metadata": {
  "kernelspec": {
   "display_name": "python24",
   "language": "python",
   "name": "python3"
  },
  "language_info": {
   "codemirror_mode": {
    "name": "ipython",
    "version": 3
   },
   "file_extension": ".py",
   "mimetype": "text/x-python",
   "name": "python",
   "nbconvert_exporter": "python",
   "pygments_lexer": "ipython3",
   "version": "3.11.11"
  }
 },
 "nbformat": 4,
 "nbformat_minor": 5
}
