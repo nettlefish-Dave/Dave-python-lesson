{
 "cells": [
  {
   "cell_type": "code",
   "execution_count": null,
   "id": "62536507",
   "metadata": {},
   "outputs": [],
   "source": [
    "import numpy as np\n",
    "import pandas as pd\n",
    "\n",
    "scores = np.random.randint(50,101,size=(50,5))\n",
    "score_pd = pd.DataFrame(scores,columns=(['國文','英文','數學','公民','體育']),\n",
    "                        index=(f'學生{index}' for index  in range(1,51)))\n",
    "score_pd\n",
    "score_pd.columns.name = '科目'\n",
    "score_pd.index.name = '學號'\n",
    "sum_series = np.sum(score_pd,axis=1)\n",
    "mean_series = score_pd.mean(axis=1)\n",
    "score_pd['總分'] = sum_series\n",
    "score_pd['平均'] = mean_series"
   ]
  },
  {
   "cell_type": "code",
   "execution_count": null,
   "id": "57617bff",
   "metadata": {},
   "outputs": [],
   "source": [
    "score_pd = score_pd.sort_values(by='總分',ascending=False)\n",
    "rank_series = score_pd['總分'].rank(ascending=False,method='min')\n",
    "score_pd['名次'] = rank_series"
   ]
  },
  {
   "cell_type": "code",
   "execution_count": null,
   "id": "756713eb",
   "metadata": {},
   "outputs": [],
   "source": [
    "score_pd"
   ]
  }
 ],
 "metadata": {
  "kernelspec": {
   "display_name": "python24",
   "language": "python",
   "name": "python3"
  },
  "language_info": {
   "codemirror_mode": {
    "name": "ipython",
    "version": 3
   },
   "file_extension": ".py",
   "mimetype": "text/x-python",
   "name": "python",
   "nbconvert_exporter": "python",
   "pygments_lexer": "ipython3",
   "version": "3.11.11"
  }
 },
 "nbformat": 4,
 "nbformat_minor": 5
}
