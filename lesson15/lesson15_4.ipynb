{
 "cells": [
  {
   "cell_type": "code",
   "execution_count": null,
   "id": "4c6d3b15",
   "metadata": {},
   "outputs": [],
   "source": [
    "import numpy as np\n",
    "import pandas as pd\n",
    "\n",
    "s1 = pd.Series(np.arange(50,70))\n",
    "s1"
   ]
  },
  {
   "cell_type": "code",
   "execution_count": 5,
   "id": "b65e12dc",
   "metadata": {},
   "outputs": [
    {
     "data": {
      "text/plain": [
       "10    60\n",
       "11    61\n",
       "12    62\n",
       "13    63\n",
       "14    64\n",
       "15    65\n",
       "16    66\n",
       "17    67\n",
       "18    68\n",
       "19    69\n",
       "dtype: int64"
      ]
     },
     "execution_count": 5,
     "metadata": {},
     "output_type": "execute_result"
    }
   ],
   "source": [
    "#透過數值的選取\n",
    "#搜尋值\n",
    "# mask的技巧,先使用比較運算子取得布林值\n",
    "mask = s1 >= 60\n",
    "s1[mask]"
   ]
  },
  {
   "cell_type": "code",
   "execution_count": 7,
   "id": "ea3d377a",
   "metadata": {},
   "outputs": [
    {
     "data": {
      "text/plain": [
       "0    50\n",
       "1    51\n",
       "2    52\n",
       "3    53\n",
       "4    54\n",
       "5    55\n",
       "6    56\n",
       "7    57\n",
       "8    58\n",
       "9    59\n",
       "dtype: int64"
      ]
     },
     "execution_count": 7,
     "metadata": {},
     "output_type": "execute_result"
    }
   ],
   "source": [
    "s1[s1 < 60]"
   ]
  },
  {
   "cell_type": "code",
   "execution_count": 8,
   "id": "262dad9c",
   "metadata": {},
   "outputs": [
    {
     "data": {
      "text/html": [
       "<div>\n",
       "<style scoped>\n",
       "    .dataframe tbody tr th:only-of-type {\n",
       "        vertical-align: middle;\n",
       "    }\n",
       "\n",
       "    .dataframe tbody tr th {\n",
       "        vertical-align: top;\n",
       "    }\n",
       "\n",
       "    .dataframe thead th {\n",
       "        text-align: right;\n",
       "    }\n",
       "</style>\n",
       "<table border=\"1\" class=\"dataframe\">\n",
       "  <thead>\n",
       "    <tr style=\"text-align: right;\">\n",
       "      <th></th>\n",
       "      <th>科目一</th>\n",
       "      <th>科目二</th>\n",
       "      <th>科目三</th>\n",
       "      <th>科目四</th>\n",
       "      <th>科目五</th>\n",
       "    </tr>\n",
       "  </thead>\n",
       "  <tbody>\n",
       "    <tr>\n",
       "      <th>學生一</th>\n",
       "      <td>60</td>\n",
       "      <td>53</td>\n",
       "      <td>54</td>\n",
       "      <td>86</td>\n",
       "      <td>77</td>\n",
       "    </tr>\n",
       "    <tr>\n",
       "      <th>學生二</th>\n",
       "      <td>73</td>\n",
       "      <td>72</td>\n",
       "      <td>63</td>\n",
       "      <td>50</td>\n",
       "      <td>90</td>\n",
       "    </tr>\n",
       "    <tr>\n",
       "      <th>學生三</th>\n",
       "      <td>77</td>\n",
       "      <td>78</td>\n",
       "      <td>99</td>\n",
       "      <td>50</td>\n",
       "      <td>79</td>\n",
       "    </tr>\n",
       "    <tr>\n",
       "      <th>學生四</th>\n",
       "      <td>96</td>\n",
       "      <td>53</td>\n",
       "      <td>95</td>\n",
       "      <td>81</td>\n",
       "      <td>52</td>\n",
       "    </tr>\n",
       "    <tr>\n",
       "      <th>學生五</th>\n",
       "      <td>80</td>\n",
       "      <td>69</td>\n",
       "      <td>91</td>\n",
       "      <td>64</td>\n",
       "      <td>96</td>\n",
       "    </tr>\n",
       "  </tbody>\n",
       "</table>\n",
       "</div>"
      ],
      "text/plain": [
       "     科目一  科目二  科目三  科目四  科目五\n",
       "學生一   60   53   54   86   77\n",
       "學生二   73   72   63   50   90\n",
       "學生三   77   78   99   50   79\n",
       "學生四   96   53   95   81   52\n",
       "學生五   80   69   91   64   96"
      ]
     },
     "execution_count": 8,
     "metadata": {},
     "output_type": "execute_result"
    }
   ],
   "source": [
    "#DataFrame\n",
    "data = np.random.randint(50,101,size=(5,5))\n",
    "df = pd.DataFrame(data,\n",
    "                  index=['學生一','學生二','學生三','學生四','學生五'],\n",
    "                  columns=['科目一','科目二','科目三','科目四','科目五'])\n",
    "df"
   ]
  },
  {
   "cell_type": "code",
   "execution_count": 10,
   "id": "870196c3",
   "metadata": {},
   "outputs": [
    {
     "data": {
      "text/html": [
       "<div>\n",
       "<style scoped>\n",
       "    .dataframe tbody tr th:only-of-type {\n",
       "        vertical-align: middle;\n",
       "    }\n",
       "\n",
       "    .dataframe tbody tr th {\n",
       "        vertical-align: top;\n",
       "    }\n",
       "\n",
       "    .dataframe thead th {\n",
       "        text-align: right;\n",
       "    }\n",
       "</style>\n",
       "<table border=\"1\" class=\"dataframe\">\n",
       "  <thead>\n",
       "    <tr style=\"text-align: right;\">\n",
       "      <th></th>\n",
       "      <th>科目一</th>\n",
       "      <th>科目二</th>\n",
       "      <th>科目三</th>\n",
       "      <th>科目四</th>\n",
       "      <th>科目五</th>\n",
       "    </tr>\n",
       "  </thead>\n",
       "  <tbody>\n",
       "    <tr>\n",
       "      <th>學生一</th>\n",
       "      <td>60</td>\n",
       "      <td>53</td>\n",
       "      <td>54</td>\n",
       "      <td>86</td>\n",
       "      <td>77</td>\n",
       "    </tr>\n",
       "    <tr>\n",
       "      <th>學生二</th>\n",
       "      <td>73</td>\n",
       "      <td>72</td>\n",
       "      <td>63</td>\n",
       "      <td>50</td>\n",
       "      <td>90</td>\n",
       "    </tr>\n",
       "    <tr>\n",
       "      <th>學生三</th>\n",
       "      <td>77</td>\n",
       "      <td>78</td>\n",
       "      <td>99</td>\n",
       "      <td>50</td>\n",
       "      <td>79</td>\n",
       "    </tr>\n",
       "    <tr>\n",
       "      <th>學生五</th>\n",
       "      <td>80</td>\n",
       "      <td>69</td>\n",
       "      <td>91</td>\n",
       "      <td>64</td>\n",
       "      <td>96</td>\n",
       "    </tr>\n",
       "  </tbody>\n",
       "</table>\n",
       "</div>"
      ],
      "text/plain": [
       "     科目一  科目二  科目三  科目四  科目五\n",
       "學生一   60   53   54   86   77\n",
       "學生二   73   72   63   50   90\n",
       "學生三   77   78   99   50   79\n",
       "學生五   80   69   91   64   96"
      ]
     },
     "execution_count": 10,
     "metadata": {},
     "output_type": "execute_result"
    }
   ],
   "source": [
    "#選取科目五 >= 60\n",
    "df[df['科目五'] >= 60]"
   ]
  },
  {
   "cell_type": "code",
   "execution_count": 21,
   "id": "95daf359",
   "metadata": {},
   "outputs": [
    {
     "data": {
      "text/html": [
       "<div>\n",
       "<style scoped>\n",
       "    .dataframe tbody tr th:only-of-type {\n",
       "        vertical-align: middle;\n",
       "    }\n",
       "\n",
       "    .dataframe tbody tr th {\n",
       "        vertical-align: top;\n",
       "    }\n",
       "\n",
       "    .dataframe thead th {\n",
       "        text-align: right;\n",
       "    }\n",
       "</style>\n",
       "<table border=\"1\" class=\"dataframe\">\n",
       "  <thead>\n",
       "    <tr style=\"text-align: right;\">\n",
       "      <th></th>\n",
       "      <th>科目一</th>\n",
       "      <th>科目二</th>\n",
       "      <th>科目三</th>\n",
       "      <th>科目四</th>\n",
       "      <th>科目五</th>\n",
       "    </tr>\n",
       "  </thead>\n",
       "  <tbody>\n",
       "    <tr>\n",
       "      <th>學生二</th>\n",
       "      <td>73</td>\n",
       "      <td>72</td>\n",
       "      <td>63</td>\n",
       "      <td>50</td>\n",
       "      <td>90</td>\n",
       "    </tr>\n",
       "    <tr>\n",
       "      <th>學生三</th>\n",
       "      <td>77</td>\n",
       "      <td>78</td>\n",
       "      <td>99</td>\n",
       "      <td>50</td>\n",
       "      <td>79</td>\n",
       "    </tr>\n",
       "    <tr>\n",
       "      <th>學生五</th>\n",
       "      <td>80</td>\n",
       "      <td>69</td>\n",
       "      <td>91</td>\n",
       "      <td>64</td>\n",
       "      <td>96</td>\n",
       "    </tr>\n",
       "  </tbody>\n",
       "</table>\n",
       "</div>"
      ],
      "text/plain": [
       "     科目一  科目二  科目三  科目四  科目五\n",
       "學生二   73   72   63   50   90\n",
       "學生三   77   78   99   50   79\n",
       "學生五   80   69   91   64   96"
      ]
     },
     "execution_count": 21,
     "metadata": {},
     "output_type": "execute_result"
    }
   ],
   "source": [
    "#科目五 >= 60 同時科目二 >= 60\n",
    "df[((df['科目五'] >= 60) & (df['科目二'] >= 60))]"
   ]
  }
 ],
 "metadata": {
  "kernelspec": {
   "display_name": "python24",
   "language": "python",
   "name": "python3"
  },
  "language_info": {
   "codemirror_mode": {
    "name": "ipython",
    "version": 3
   },
   "file_extension": ".py",
   "mimetype": "text/x-python",
   "name": "python",
   "nbconvert_exporter": "python",
   "pygments_lexer": "ipython3",
   "version": "3.11.11"
  }
 },
 "nbformat": 4,
 "nbformat_minor": 5
}
