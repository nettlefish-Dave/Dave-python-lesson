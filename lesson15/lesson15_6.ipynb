{
 "cells": [
  {
   "cell_type": "code",
   "execution_count": null,
   "id": "22ee5f33",
   "metadata": {},
   "outputs": [],
   "source": [
    "import pandas as pd\n",
    "\n",
    "all_data = pd.read_csv('world.csv',index_col='ID')\n",
    "all_data.info()"
   ]
  },
  {
   "cell_type": "code",
   "execution_count": null,
   "id": "9a79ca54",
   "metadata": {},
   "outputs": [],
   "source": [
    "all_data = pd.read_csv('world.csv',index_col='ID',usecols=('ID','國家','日期','總確診數','新增確診數','新增死亡數'))\n",
    "all_data"
   ]
  },
  {
   "cell_type": "code",
   "execution_count": null,
   "id": "37775e89",
   "metadata": {},
   "outputs": [],
   "source": [
    "#使用mask,透過值選取資料\n",
    "all_data[all_data['國家'] == '台灣']"
   ]
  },
  {
   "cell_type": "code",
   "execution_count": null,
   "id": "5ddaf1c1",
   "metadata": {},
   "outputs": [],
   "source": [
    "#使用query()實體方法\n",
    "taiwan = all_data.query('國家==\"台灣\"')"
   ]
  },
  {
   "cell_type": "code",
   "execution_count": null,
   "id": "453983ae",
   "metadata": {},
   "outputs": [],
   "source": [
    "taiwan_japan = all_data.query('國家==\"台灣\" or 國家==\"日本\"')"
   ]
  },
  {
   "cell_type": "code",
   "execution_count": null,
   "id": "832d27ed",
   "metadata": {},
   "outputs": [],
   "source": [
    "taiwan.query('新增確診數 >= 10000')\n",
    "taiwan.query('新增確診數 >= 10000 and 新增死亡數 > 100')"
   ]
  }
 ],
 "metadata": {
  "kernelspec": {
   "display_name": "python24",
   "language": "python",
   "name": "python3"
  },
  "language_info": {
   "codemirror_mode": {
    "name": "ipython",
    "version": 3
   },
   "file_extension": ".py",
   "mimetype": "text/x-python",
   "name": "python",
   "nbconvert_exporter": "python",
   "pygments_lexer": "ipython3",
   "version": "3.11.11"
  }
 },
 "nbformat": 4,
 "nbformat_minor": 5
}
