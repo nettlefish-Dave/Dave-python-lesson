{
 "cells": [
  {
   "cell_type": "code",
   "execution_count": 3,
   "id": "d5f7b2ee",
   "metadata": {},
   "outputs": [
    {
     "data": {
      "text/plain": [
       "array([[85, 84, 88, 86, 63],\n",
       "       [56, 73, 84, 70, 89],\n",
       "       [85, 63, 70, 74, 86],\n",
       "       [96, 68, 68, 76, 59],\n",
       "       [95, 78, 73, 84, 93]], dtype=int32)"
      ]
     },
     "execution_count": 3,
     "metadata": {},
     "output_type": "execute_result"
    }
   ],
   "source": [
    "import numpy as np\n",
    "scores = np.random.randint(50,101,size=(5,5))\n",
    "scores"
   ]
  },
  {
   "cell_type": "code",
   "execution_count": 4,
   "id": "3ce5ddb7",
   "metadata": {},
   "outputs": [
    {
     "data": {
      "text/plain": [
       "array([[88, 86, 63],\n",
       "       [84, 70, 89],\n",
       "       [70, 74, 86]], dtype=int32)"
      ]
     },
     "execution_count": 4,
     "metadata": {},
     "output_type": "execute_result"
    }
   ],
   "source": [
    "scores[:3,2:]"
   ]
  },
  {
   "cell_type": "code",
   "execution_count": null,
   "id": "0c5c8dad",
   "metadata": {},
   "outputs": [
    {
     "data": {
      "text/plain": [
       "array([[95, 78, 73, 84, 93]], dtype=int32)"
      ]
     },
     "execution_count": 8,
     "metadata": {},
     "output_type": "execute_result"
    }
   ],
   "source": [
    "scores[4]\n",
    "scores[4,:]\n",
    "scores[4:,:]    #變成二維"
   ]
  },
  {
   "cell_type": "code",
   "execution_count": 9,
   "id": "fe02417a",
   "metadata": {},
   "outputs": [
    {
     "data": {
      "text/plain": [
       "array([[85, 84],\n",
       "       [56, 73],\n",
       "       [85, 63],\n",
       "       [96, 68],\n",
       "       [95, 78]], dtype=int32)"
      ]
     },
     "execution_count": 9,
     "metadata": {},
     "output_type": "execute_result"
    }
   ],
   "source": [
    "scores[:,:2]"
   ]
  },
  {
   "cell_type": "markdown",
   "id": "3fe12784",
   "metadata": {},
   "source": [
    "### numpy的統計工具"
   ]
  },
  {
   "cell_type": "code",
   "execution_count": 10,
   "id": "179872e4",
   "metadata": {},
   "outputs": [
    {
     "data": {
      "text/plain": [
       "array([[ 58,  63,  71,  92,  88],\n",
       "       [ 58,  61,  85,  54,  78],\n",
       "       [ 82,  94,  51,  61,  96],\n",
       "       [ 84,  66,  65,  89,  51],\n",
       "       [ 54,  54,  53,  67, 100]], dtype=int32)"
      ]
     },
     "execution_count": 10,
     "metadata": {},
     "output_type": "execute_result"
    }
   ],
   "source": [
    "scores = np.random.randint(50,101,size=(5,5))\n",
    "scores"
   ]
  },
  {
   "cell_type": "code",
   "execution_count": 11,
   "id": "2f490250",
   "metadata": {},
   "outputs": [
    {
     "data": {
      "text/plain": [
       "array([372, 336, 384, 355, 328], dtype=int32)"
      ]
     },
     "execution_count": 11,
     "metadata": {},
     "output_type": "execute_result"
    }
   ],
   "source": [
    "scores[:,0] + scores[:,1] + scores[:,2] + scores[:,3] + scores[:,4]"
   ]
  },
  {
   "cell_type": "code",
   "execution_count": null,
   "id": "1c405473",
   "metadata": {},
   "outputs": [
    {
     "data": {
      "text/plain": [
       "array([372, 336, 384, 355, 328])"
      ]
     },
     "execution_count": 12,
     "metadata": {},
     "output_type": "execute_result"
    }
   ],
   "source": [
    "#加總\n",
    "np.sum(scores,axis=1)"
   ]
  },
  {
   "cell_type": "code",
   "execution_count": null,
   "id": "39338c7b",
   "metadata": {},
   "outputs": [
    {
     "data": {
      "text/plain": [
       "array([74.4, 67.2, 76.8, 71. , 65.6])"
      ]
     },
     "execution_count": 13,
     "metadata": {},
     "output_type": "execute_result"
    }
   ],
   "source": [
    "#平均\n",
    "np.average(scores,axis=1)"
   ]
  },
  {
   "cell_type": "code",
   "execution_count": 16,
   "id": "151ab26a",
   "metadata": {},
   "outputs": [
    {
     "data": {
      "text/plain": [
       "array([ 92,  85,  96,  89, 100], dtype=int32)"
      ]
     },
     "execution_count": 16,
     "metadata": {},
     "output_type": "execute_result"
    }
   ],
   "source": [
    "#最大\n",
    "np.max(scores,axis=1)"
   ]
  },
  {
   "cell_type": "code",
   "execution_count": 17,
   "id": "9a9ed461",
   "metadata": {},
   "outputs": [
    {
     "data": {
      "text/plain": [
       "array([58, 54, 51, 51, 53], dtype=int32)"
      ]
     },
     "execution_count": 17,
     "metadata": {},
     "output_type": "execute_result"
    }
   ],
   "source": [
    "#最小\n",
    "np.min(scores,axis=1)"
   ]
  },
  {
   "cell_type": "code",
   "execution_count": 18,
   "id": "90f3cae3",
   "metadata": {},
   "outputs": [
    {
     "data": {
      "text/plain": [
       "array([71., 61., 82., 66., 54.])"
      ]
     },
     "execution_count": 18,
     "metadata": {},
     "output_type": "execute_result"
    }
   ],
   "source": [
    "#中間數\n",
    "np.median(scores,axis=1)"
   ]
  },
  {
   "cell_type": "code",
   "execution_count": 19,
   "id": "ec40306a",
   "metadata": {},
   "outputs": [
    {
     "data": {
      "text/plain": [
       "array([13.45511055, 12.08966501, 17.92651667, 13.81303732, 17.9621825 ])"
      ]
     },
     "execution_count": 19,
     "metadata": {},
     "output_type": "execute_result"
    }
   ],
   "source": [
    "#標準差\n",
    "np.std(scores,axis=1)"
   ]
  }
 ],
 "metadata": {
  "kernelspec": {
   "display_name": "python24",
   "language": "python",
   "name": "python3"
  },
  "language_info": {
   "codemirror_mode": {
    "name": "ipython",
    "version": 3
   },
   "file_extension": ".py",
   "mimetype": "text/x-python",
   "name": "python",
   "nbconvert_exporter": "python",
   "pygments_lexer": "ipython3",
   "version": "3.11.11"
  }
 },
 "nbformat": 4,
 "nbformat_minor": 5
}
