{
 "cells": [
  {
   "cell_type": "markdown",
   "id": "86c65214",
   "metadata": {},
   "source": [
    "### list_comprehension(快速建立list)\n",
    "- [ expression for item in interable ]"
   ]
  },
  {
   "cell_type": "code",
   "execution_count": 2,
   "id": "b7cbd8df",
   "metadata": {},
   "outputs": [
    {
     "name": "stdout",
     "output_type": "stream",
     "text": [
      "1\n",
      "2\n",
      "3\n",
      "4\n",
      "5\n",
      "6\n",
      "7\n",
      "8\n",
      "9\n",
      "10\n"
     ]
    }
   ],
   "source": [
    "for i in range(1,11):\n",
    "    print(i)"
   ]
  },
  {
   "cell_type": "code",
   "execution_count": 4,
   "id": "353d7f5b",
   "metadata": {},
   "outputs": [
    {
     "data": {
      "text/plain": [
       "[2, 4, 6, 8, 10, 12, 14, 16, 18, 20]"
      ]
     },
     "execution_count": 4,
     "metadata": {},
     "output_type": "execute_result"
    }
   ],
   "source": [
    "[i*2 for i in range(1,11)]"
   ]
  },
  {
   "cell_type": "markdown",
   "id": "59b1ef5f",
   "metadata": {},
   "source": [
    "### 加入條件判斷\n",
    "- [ expression for item in interable if 條件式]"
   ]
  },
  {
   "cell_type": "code",
   "execution_count": 5,
   "id": "1f202103",
   "metadata": {},
   "outputs": [
    {
     "data": {
      "text/plain": [
       "[2, 6, 10, 14, 18]"
      ]
     },
     "execution_count": 5,
     "metadata": {},
     "output_type": "execute_result"
    }
   ],
   "source": [
    "[i*2 for i in range(1,11) if i % 2 == 1]"
   ]
  },
  {
   "cell_type": "markdown",
   "id": "ccce1449",
   "metadata": {},
   "source": [
    "### map() , fiter"
   ]
  },
  {
   "cell_type": "code",
   "execution_count": null,
   "id": "1e2f3cc9",
   "metadata": {},
   "outputs": [
    {
     "data": {
      "text/plain": [
       "{'姓名': '張XX', 'age': 35, 'score': 256}"
      ]
     },
     "execution_count": 11,
     "metadata": {},
     "output_type": "execute_result"
    }
   ],
   "source": [
    "#map是一筆相關聯的資料\n",
    "students = [{'姓名':'張XX','age':35,'score':256},\n",
    "            {'姓名':'王XX','age':36,'score':270},\n",
    "            {'姓名':'趙XX','age':37,'score':280}]\n",
    "students[0]"
   ]
  },
  {
   "cell_type": "code",
   "execution_count": 25,
   "id": "804b43d8",
   "metadata": {},
   "outputs": [],
   "source": [
    "students = [\n",
    "    {\"name\": \"Alice\", \"Chinese\": 85, \"English\": 92, \"Math\": 78},\n",
    "    {\"name\": \"Bob\", \"Chinese\": 75, \"English\": 88, \"Math\": 90},\n",
    "    {\"name\": \"Charlie\", \"Chinese\": 90, \"English\": 85, \"Math\": 85},\n",
    "    {\"name\": \"David\", \"Chinese\": 60, \"English\": 70, \"Math\": 80},\n",
    "    {\"name\": \"Eva\", \"Chinese\": 95, \"English\": 98, \"Math\": 92},\n",
    "    {\"name\": \"Frank\", \"Chinese\": 70, \"English\": 75, \"Math\": 68},\n",
    "    {\"name\": \"Grace\", \"Chinese\": 88, \"English\": 82, \"Math\": 85},\n",
    "    {\"name\": \"Helen\", \"Chinese\": 92, \"English\": 90, \"Math\": 94},\n",
    "    {\"name\": \"Ian\", \"Chinese\": 78, \"English\": 80, \"Math\": 72},\n",
    "    {\"name\": \"Jane\", \"Chinese\": 85, \"English\": 87, \"Math\": 89}\n",
    "]"
   ]
  },
  {
   "cell_type": "code",
   "execution_count": 19,
   "id": "d0431366",
   "metadata": {},
   "outputs": [
    {
     "name": "stdout",
     "output_type": "stream",
     "text": [
      "{'name': 'Alice', 'Chinese': 85, 'English': 92, 'Math': 78}\n",
      "{'name': 'Charlie', 'Chinese': 90, 'English': 85, 'Math': 85}\n",
      "{'name': 'Eva', 'Chinese': 95, 'English': 98, 'Math': 92}\n",
      "{'name': 'Grace', 'Chinese': 88, 'English': 82, 'Math': 85}\n",
      "{'name': 'Helen', 'Chinese': 92, 'English': 90, 'Math': 94}\n",
      "{'name': 'Jane', 'Chinese': 85, 'English': 87, 'Math': 89}\n"
     ]
    }
   ],
   "source": [
    "for student in students:\n",
    "    if student['Chinese'] >= 80:\n",
    "        print(student)"
   ]
  },
  {
   "cell_type": "markdown",
   "id": "d918db4d",
   "metadata": {},
   "source": [
    "### 使用comprehension的技巧"
   ]
  },
  {
   "cell_type": "code",
   "execution_count": null,
   "id": "f61e6dd2",
   "metadata": {},
   "outputs": [
    {
     "data": {
      "text/plain": [
       "[{'name': 'Alice', 'Chinese': 85, 'English': 92, 'Math': 78},\n",
       " {'name': 'Charlie', 'Chinese': 90, 'English': 85, 'Math': 85},\n",
       " {'name': 'Eva', 'Chinese': 95, 'English': 98, 'Math': 92},\n",
       " {'name': 'Grace', 'Chinese': 88, 'English': 82, 'Math': 85},\n",
       " {'name': 'Helen', 'Chinese': 92, 'English': 90, 'Math': 94},\n",
       " {'name': 'Jane', 'Chinese': 85, 'English': 87, 'Math': 89}]"
      ]
     },
     "execution_count": 20,
     "metadata": {},
     "output_type": "execute_result"
    }
   ],
   "source": [
    "student_80 = [student for student in students if student['Chinese'] >= 80] #過濾\n",
    "student_80"
   ]
  },
  {
   "cell_type": "markdown",
   "id": "10c98665",
   "metadata": {},
   "source": [
    "### 使用filter的技巧\n",
    "- 說明書\n",
    "    - filter(function, iterable)"
   ]
  },
  {
   "cell_type": "code",
   "execution_count": null,
   "id": "64260d69",
   "metadata": {},
   "outputs": [
    {
     "data": {
      "text/plain": [
       "[{'name': 'Alice', 'Chinese': 85, 'English': 92, 'Math': 78},\n",
       " {'name': 'Charlie', 'Chinese': 90, 'English': 85, 'Math': 85},\n",
       " {'name': 'Eva', 'Chinese': 95, 'English': 98, 'Math': 92},\n",
       " {'name': 'Grace', 'Chinese': 88, 'English': 82, 'Math': 85},\n",
       " {'name': 'Helen', 'Chinese': 92, 'English': 90, 'Math': 94},\n",
       " {'name': 'Jane', 'Chinese': 85, 'English': 87, 'Math': 89}]"
      ]
     },
     "execution_count": 31,
     "metadata": {},
     "output_type": "execute_result"
    }
   ],
   "source": [
    "#注意key大小寫 注意代入的變數名稱\n",
    "#def chinese_greater_80(student):\n",
    "#    if student['Chinese'] >= 80:\n",
    "#        return student\n",
    "\n",
    "#lambda 匿名函數\n",
    "#None 的N一定大寫 if ... else ... 一定要完整才能在labmda中使用\n",
    "list(filter(lambda student:student if student['Chinese'] >= 80 else None,students))\n"
   ]
  }
 ],
 "metadata": {
  "kernelspec": {
   "display_name": "base",
   "language": "python",
   "name": "python3"
  },
  "language_info": {
   "codemirror_mode": {
    "name": "ipython",
    "version": 3
   },
   "file_extension": ".py",
   "mimetype": "text/x-python",
   "name": "python",
   "nbconvert_exporter": "python",
   "pygments_lexer": "ipython3",
   "version": "3.12.9"
  }
 },
 "nbformat": 4,
 "nbformat_minor": 5
}
