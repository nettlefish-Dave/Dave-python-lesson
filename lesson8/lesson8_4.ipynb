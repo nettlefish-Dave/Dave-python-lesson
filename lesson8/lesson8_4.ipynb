{
 "cells": [
  {
   "cell_type": "markdown",
   "id": "c3abde50",
   "metadata": {},
   "source": [
    "### dataclass"
   ]
  },
  {
   "cell_type": "code",
   "execution_count": 3,
   "id": "ca8f1841",
   "metadata": {},
   "outputs": [],
   "source": [
    "from dataclasses import dataclass\n",
    "\n",
    "@dataclass\n",
    "class Student:\n",
    "    name:str\n",
    "    chinese:int\n",
    "    englist:int\n",
    "    math:int"
   ]
  },
  {
   "cell_type": "code",
   "execution_count": 8,
   "id": "29a7e601",
   "metadata": {},
   "outputs": [
    {
     "data": {
      "text/plain": [
       "list"
      ]
     },
     "execution_count": 8,
     "metadata": {},
     "output_type": "execute_result"
    }
   ],
   "source": [
    "# 透過 class student 建立實體\n",
    "students:list[Student] = [Student('Alice',85,92,78),\n",
    "                          Student(\"Bob\",75,88,90),\n",
    "                          Student(\"Charlie\",90,85,85),\n",
    "                          Student(\"David\",60,70,80)]\n",
    "type(students)\n",
    " #   {\"name\": \"Eva\", \"Chinese\": 95, \"English\": 98, \"Math\": 92},\n",
    " #   {\"name\": \"Frank\", \"Chinese\": 70, \"English\": 75, \"Math\": 68},\n",
    " #   {\"name\": \"Grace\", \"Chinese\": 88, \"English\": 82, \"Math\": 85},\n",
    " #   {\"name\": \"Helen\", \"Chinese\": 92, \"English\": 90, \"Math\": 94},\n",
    " #   {\"name\": \"Ian\", \"Chinese\": 78, \"English\": 80, \"Math\": 72},\n",
    " #   {\"name\": \"Jane\", \"Chinese\": 85, \"English\": 87, \"Math\": 89}\n",
    " "
   ]
  },
  {
   "cell_type": "code",
   "execution_count": 6,
   "id": "46c311a8",
   "metadata": {},
   "outputs": [
    {
     "name": "stdout",
     "output_type": "stream",
     "text": [
      "Alice\n",
      "85\n",
      "92\n",
      "78\n",
      "========\n",
      "Bob\n",
      "75\n",
      "88\n",
      "90\n",
      "========\n",
      "Charlie\n",
      "90\n",
      "85\n",
      "85\n",
      "========\n",
      "David\n",
      "60\n",
      "70\n",
      "80\n",
      "========\n"
     ]
    }
   ],
   "source": [
    "for student in students:\n",
    "    print(student.name)\n",
    "    print(student.chinese)\n",
    "    print(student.englist)\n",
    "    print(student.math)\n",
    "    print('='*8)"
   ]
  }
 ],
 "metadata": {
  "kernelspec": {
   "display_name": "base",
   "language": "python",
   "name": "python3"
  },
  "language_info": {
   "codemirror_mode": {
    "name": "ipython",
    "version": 3
   },
   "file_extension": ".py",
   "mimetype": "text/x-python",
   "name": "python",
   "nbconvert_exporter": "python",
   "pygments_lexer": "ipython3",
   "version": "3.12.9"
  }
 },
 "nbformat": 4,
 "nbformat_minor": 5
}
