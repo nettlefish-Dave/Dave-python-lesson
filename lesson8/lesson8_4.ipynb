{
 "cells": [
  {
   "cell_type": "markdown",
   "id": "c3abde50",
   "metadata": {},
   "source": [
    "### dataclass"
   ]
  },
  {
   "cell_type": "code",
   "execution_count": null,
   "id": "ca8f1841",
   "metadata": {},
   "outputs": [],
   "source": [
    "from dataclasses import dataclass\n",
    "\n",
    "@dataclass\n",
    "#init() 自訂的初始化\n",
    "#屬性 儲存數值\n",
    "class Student:\n",
    "    name:str\n",
    "    chinese:int\n",
    "    englist:int\n",
    "    math:int"
   ]
  },
  {
   "cell_type": "code",
   "execution_count": 9,
   "id": "29a7e601",
   "metadata": {},
   "outputs": [
    {
     "data": {
      "text/plain": [
       "list"
      ]
     },
     "execution_count": 9,
     "metadata": {},
     "output_type": "execute_result"
    }
   ],
   "source": [
    "# 透過 class student 建立實體\n",
    "students:list[Student] = [Student('Alice',85,92,78),\n",
    "                          Student(\"Bob\",75,88,90),\n",
    "                          Student(\"Charlie\",90,85,85),\n",
    "                          Student(\"David\",60,70,80),\n",
    "                          Student(\"Eva\",95,98,92),\n",
    "                          Student(\"Frank\",70,75,68),\n",
    "                          Student(\"Grace\",88,82,85),\n",
    "                          Student(\"Helen\",92,90,94),\n",
    "                          Student(\"Ian\",78,80,72),\n",
    "                          Student(\"Jane\",85,87,89)]\n",
    "type(students)\n",
    " "
   ]
  },
  {
   "cell_type": "code",
   "execution_count": null,
   "id": "46c311a8",
   "metadata": {},
   "outputs": [
    {
     "name": "stdout",
     "output_type": "stream",
     "text": [
      "Alice 85 92 78\n",
      "Bob 75 88 90\n",
      "Charlie 90 85 85\n",
      "David 60 70 80\n",
      "Eva 95 98 92\n",
      "Frank 70 75 68\n",
      "Grace 88 82 85\n",
      "Helen 92 90 94\n",
      "Ian 78 80 72\n",
      "Jane 85 87 89\n"
     ]
    }
   ],
   "source": [
    "for student in students:\n",
    "    print(student.name + ' ' +\n",
    "        str(student.chinese) + ' ' +\n",
    "        str(student.englist) + ' ' + \n",
    "        str(student.math))\n",
    "    #print(student.chinese)\n",
    "    #print(student.englist)\n",
    "    #print(student.math)\n",
    "    #print('='*8)"
   ]
  }
 ],
 "metadata": {
  "kernelspec": {
   "display_name": "base",
   "language": "python",
   "name": "python3"
  },
  "language_info": {
   "codemirror_mode": {
    "name": "ipython",
    "version": 3
   },
   "file_extension": ".py",
   "mimetype": "text/x-python",
   "name": "python",
   "nbconvert_exporter": "python",
   "pygments_lexer": "ipython3",
   "version": "3.12.9"
  }
 },
 "nbformat": 4,
 "nbformat_minor": 5
}
