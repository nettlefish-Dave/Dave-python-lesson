{
 "cells": [
  {
   "cell_type": "markdown",
   "id": "43a95373",
   "metadata": {},
   "source": [
    "### Tuple\n",
    "- 不可更改的 imutable\n",
    "- 串列 sequence\n",
    "- 可重複讀取 iterable\n",
    "- 可拆解\n",
    "- 用()符號建立\n",
    "- typehint (tuple)"
   ]
  },
  {
   "cell_type": "code",
   "execution_count": 2,
   "id": "3737f888",
   "metadata": {},
   "outputs": [
    {
     "name": "stdout",
     "output_type": "stream",
     "text": [
      "Robert\n",
      "35\n"
     ]
    }
   ],
   "source": [
    "#拆解\n",
    "name, age = 'Robert',35\n",
    "print(name)\n",
    "print(age)"
   ]
  },
  {
   "cell_type": "markdown",
   "id": "163e9e0c",
   "metadata": {},
   "source": [
    "### List\n",
    "- 可更改的 mutable\n",
    "- 串列 sequence\n",
    "- 可重複讀取 iterable\n",
    "- 用[]符號建立\n",
    "- typehint (list)"
   ]
  },
  {
   "cell_type": "code",
   "execution_count": 5,
   "id": "9919a99f",
   "metadata": {},
   "outputs": [
    {
     "data": {
      "text/plain": [
       "list"
      ]
     },
     "execution_count": 5,
     "metadata": {},
     "output_type": "execute_result"
    }
   ],
   "source": [
    "weekdays = ['星期一','星期二','星期三','星期四','星期五','星期六','星期日']\n",
    "type(weekdays)"
   ]
  },
  {
   "cell_type": "code",
   "execution_count": 7,
   "id": "02bf04db",
   "metadata": {},
   "outputs": [
    {
     "data": {
      "text/plain": [
       "'星期日'"
      ]
     },
     "execution_count": 7,
     "metadata": {},
     "output_type": "execute_result"
    }
   ],
   "source": [
    "#取出與修改特定位置的元素\n",
    "#使用subscript\n",
    "weekdays[-1]"
   ]
  },
  {
   "cell_type": "code",
   "execution_count": 15,
   "id": "c293fefa",
   "metadata": {},
   "outputs": [
    {
     "data": {
      "text/plain": [
       "['星期一', '星期二', '星期三']"
      ]
     },
     "execution_count": 15,
     "metadata": {},
     "output_type": "execute_result"
    }
   ],
   "source": [
    "#[slice]\n",
    "#[起始(包含):結束(不包含)]\n",
    "weekdays[1:3] #['星期二', '星期三']\n",
    "weekdays[-3:-1] #['星期五', '星期六']\n",
    "weekdays[-3:] #['星期五', '星期六', '星期日']\n",
    "weekdays[:3] #['星期一', '星期二', '星期三']\n",
    "#此操作 tuple 可用"
   ]
  },
  {
   "cell_type": "code",
   "execution_count": 16,
   "id": "98068c4b",
   "metadata": {},
   "outputs": [
    {
     "name": "stdout",
     "output_type": "stream",
     "text": [
      "星期一\n",
      "星期二\n",
      "星期三\n",
      "星期四\n",
      "星期五\n",
      "星期六\n",
      "星期日\n"
     ]
    }
   ],
   "source": [
    "for day in weekdays:\n",
    "    print(day)"
   ]
  },
  {
   "cell_type": "markdown",
   "id": "7faab1e4",
   "metadata": {},
   "source": [
    "### dict\n",
    "- 可更改的 mutable\n",
    "- mapping\n",
    "- 可重複讀取 iterable\n",
    "- 用{key:value}符號建立\n",
    "- typehint (dict)"
   ]
  },
  {
   "cell_type": "code",
   "execution_count": 17,
   "id": "8bb8fe53",
   "metadata": {},
   "outputs": [
    {
     "data": {
      "text/plain": [
       "{'tw': 'Taiwan', 'jp': 'Japan', 'hk': 'Hong Kong'}"
      ]
     },
     "execution_count": 17,
     "metadata": {},
     "output_type": "execute_result"
    }
   ],
   "source": [
    "codes = {'tw':'Taiwan','jp':'Japan','hk':'Hong Kong'}\n",
    "codes"
   ]
  },
  {
   "cell_type": "code",
   "execution_count": 18,
   "id": "7ecfaf4a",
   "metadata": {},
   "outputs": [
    {
     "data": {
      "text/plain": [
       "'Taiwan'"
      ]
     },
     "execution_count": 18,
     "metadata": {},
     "output_type": "execute_result"
    }
   ],
   "source": [
    "codes['tw']"
   ]
  },
  {
   "cell_type": "code",
   "execution_count": 21,
   "id": "27614432",
   "metadata": {},
   "outputs": [
    {
     "name": "stdout",
     "output_type": "stream",
     "text": [
      "tw - Taiwan\n",
      "jp - Japan\n",
      "hk - Hong Kong\n"
     ]
    }
   ],
   "source": [
    "for key in codes:\n",
    "    print(key + ' - ' + codes[key])"
   ]
  },
  {
   "cell_type": "markdown",
   "id": "a4aa8872",
   "metadata": {},
   "source": [
    "### set\n",
    "- 元素不可重複\n",
    "- 用()符號建立"
   ]
  },
  {
   "cell_type": "code",
   "execution_count": 22,
   "id": "321a8704",
   "metadata": {},
   "outputs": [
    {
     "data": {
      "text/plain": [
       "{'台中', '台北', '高雄'}"
      ]
     },
     "execution_count": 22,
     "metadata": {},
     "output_type": "execute_result"
    }
   ],
   "source": [
    "citys = {'台北','台中','高雄','台北','台中','高雄'}\n",
    "citys"
   ]
  }
 ],
 "metadata": {
  "kernelspec": {
   "display_name": "base",
   "language": "python",
   "name": "python3"
  },
  "language_info": {
   "codemirror_mode": {
    "name": "ipython",
    "version": 3
   },
   "file_extension": ".py",
   "mimetype": "text/x-python",
   "name": "python",
   "nbconvert_exporter": "python",
   "pygments_lexer": "ipython3",
   "version": "3.12.9"
  }
 },
 "nbformat": 4,
 "nbformat_minor": 5
}
