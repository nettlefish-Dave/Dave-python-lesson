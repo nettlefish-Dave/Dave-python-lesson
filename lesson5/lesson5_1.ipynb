{
 "cells": [
  {
   "cell_type": "code",
   "execution_count": 8,
   "id": "3050bd6f",
   "metadata": {},
   "outputs": [
    {
     "name": "stdout",
     "output_type": "stream",
     "text": [
      "甲\n"
     ]
    }
   ],
   "source": [
    "#一組 if ... else ... 只會執行最先觸碰到的 True 的區塊 執行完就跳出 if 區塊\n",
    "#所以最嚴格的條件需要放在最先頭進行判斷\n",
    "score:int = int(input('請輸入學生分數:'))\n",
    "if score < 60:\n",
    "    print('丁')\n",
    "elif score < 70:\n",
    "    print('丙')\n",
    "elif score < 80:\n",
    "    print('乙')\n",
    "elif score < 90:\n",
    "    print('甲')\n",
    "else:\n",
    "    print('優')"
   ]
  },
  {
   "cell_type": "markdown",
   "id": "16d0b96e",
   "metadata": {},
   "source": [
    "### 組合兩個條件\n",
    "- 巢狀判斷\n",
    "- 邏輯運算子"
   ]
  },
  {
   "cell_type": "code",
   "execution_count": null,
   "id": "2bf3ca02",
   "metadata": {},
   "outputs": [
    {
     "name": "stdout",
     "output_type": "stream",
     "text": [
      "沒有獎學金\n"
     ]
    }
   ],
   "source": [
    "# 如果 國文 100 分 同時 數學 100 分 獎學金1000\n",
    "# 如果 國文 100 分 或者 數學 100 分 獎學金500\n",
    "# 否則 沒有獎學金\n",
    "chineseS:int = int(input('國文成績'))\n",
    "mathS:int = int(input('數學成績'))\n",
    "#邏輯運算子\n",
    "if chineseS == 100 and mathS == 100:\n",
    "    print('獲得獎學金1000')\n",
    "elif chineseS == 100 or mathS == 100:\n",
    "    print('獲得獎學金500')\n",
    "else:\n",
    "    print('沒有獎學金')\n"
   ]
  },
  {
   "cell_type": "code",
   "execution_count": 18,
   "id": "51f2a0a0",
   "metadata": {},
   "outputs": [
    {
     "name": "stdout",
     "output_type": "stream",
     "text": [
      "沒有獎學金\n"
     ]
    }
   ],
   "source": [
    "# 如果 國文 100 分 同時 數學 100 分 獎學金1000\n",
    "# 如果 國文 100 分 或者 數學 100 分 獎學金500\n",
    "# 否則 沒有獎學金\n",
    "chineseS:int = int(input('國文成績'))\n",
    "mathS:int = int(input('數學成績'))\n",
    "#巢狀判斷\n",
    "if chineseS == 100 :\n",
    "    if mathS == 100 :\n",
    "        print('獲得獎學金1000')\n",
    "    else :\n",
    "        print('獲得獎學金500')\n",
    "else :\n",
    "    if mathS == 100 :\n",
    "        print('獲得獎學金500')\n",
    "    else :\n",
    "        print('沒有獎學金')"
   ]
  }
 ],
 "metadata": {
  "kernelspec": {
   "display_name": "base",
   "language": "python",
   "name": "python3"
  },
  "language_info": {
   "codemirror_mode": {
    "name": "ipython",
    "version": 3
   },
   "file_extension": ".py",
   "mimetype": "text/x-python",
   "name": "python",
   "nbconvert_exporter": "python",
   "pygments_lexer": "ipython3",
   "version": "3.12.9"
  }
 },
 "nbformat": 4,
 "nbformat_minor": 5
}
