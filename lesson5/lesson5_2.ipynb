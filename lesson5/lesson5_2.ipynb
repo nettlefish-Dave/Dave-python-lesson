{
 "cells": [
  {
   "cell_type": "markdown",
   "id": "e64b06cd",
   "metadata": {},
   "source": [
    "### 流程控制 迴圈 loop\n",
    "- for ... in ..."
   ]
  },
  {
   "cell_type": "code",
   "execution_count": 3,
   "id": "2decb563",
   "metadata": {},
   "outputs": [
    {
     "name": "stdout",
     "output_type": "stream",
     "text": [
      "55\n"
     ]
    }
   ],
   "source": [
    "# n = 1 ~ 10 總和\n",
    "n = 0\n",
    "n += 1\n",
    "n += 2\n",
    "n += 3\n",
    "n += 4\n",
    "n += 5\n",
    "n += 6\n",
    "n += 7\n",
    "n += 8\n",
    "n += 9\n",
    "n += 10\n",
    "print(n)"
   ]
  },
  {
   "cell_type": "code",
   "execution_count": 11,
   "id": "7fee2789",
   "metadata": {},
   "outputs": [
    {
     "name": "stdout",
     "output_type": "stream",
     "text": [
      "0\n",
      "1\n",
      "2\n",
      "3\n",
      "4\n"
     ]
    }
   ],
   "source": [
    "# 內建函數 rnage()\n",
    "# range(5) = range(0, 5) interable 0 , 1 , 2 , 3 , 4 \n",
    "# for 自訂變數 in interable\n",
    "for i in range(5) :\n",
    "    print(i)"
   ]
  },
  {
   "cell_type": "code",
   "execution_count": 10,
   "id": "ba31eb9c",
   "metadata": {},
   "outputs": [
    {
     "name": "stdout",
     "output_type": "stream",
     "text": [
      "1\n",
      "3\n",
      "5\n",
      "7\n",
      "9\n"
     ]
    }
   ],
   "source": [
    "# range(strat ,stop ,step=1) 有 default 值的 可以省略\n",
    "# range(1 ,5) = 1 ,2 ,3 ,4\n",
    "# range(1 ,10, 2) = 1 ,3 ,5 ,7 ,9\n",
    "for i in range(1 ,10 ,2) :\n",
    "    print(i)"
   ]
  },
  {
   "cell_type": "code",
   "execution_count": 13,
   "id": "2cc69945",
   "metadata": {},
   "outputs": [
    {
     "name": "stdout",
     "output_type": "stream",
     "text": [
      "從1加總到100的值為:5050\n"
     ]
    }
   ],
   "source": [
    "n:int  = int(input('請輸入一個整數:'))\n",
    "total:int = 0\n",
    "for i in range(1 ,n+1):\n",
    "    total += i\n",
    "print(f'從1加總到{n}的值為:{total}')"
   ]
  },
  {
   "cell_type": "code",
   "execution_count": 23,
   "id": "8c66bf4c",
   "metadata": {},
   "outputs": [
    {
     "name": "stdout",
     "output_type": "stream",
     "text": [
      "1*1=1\t1*2=2\t1*3=3\t1*4=4\t1*5=5\t1*6=6\t1*7=7\t1*8=8\t1*9=9\t\n",
      "2*1=2\t2*2=4\t2*3=6\t2*4=8\t2*5=10\t2*6=12\t2*7=14\t2*8=16\t2*9=18\t\n",
      "3*1=3\t3*2=6\t3*3=9\t3*4=12\t3*5=15\t3*6=18\t3*7=21\t3*8=24\t3*9=27\t\n",
      "4*1=4\t4*2=8\t4*3=12\t4*4=16\t4*5=20\t4*6=24\t4*7=28\t4*8=32\t4*9=36\t\n",
      "5*1=5\t5*2=10\t5*3=15\t5*4=20\t5*5=25\t5*6=30\t5*7=35\t5*8=40\t5*9=45\t\n",
      "6*1=6\t6*2=12\t6*3=18\t6*4=24\t6*5=30\t6*6=36\t6*7=42\t6*8=48\t6*9=54\t\n",
      "7*1=7\t7*2=14\t7*3=21\t7*4=28\t7*5=35\t7*6=42\t7*7=49\t7*8=56\t7*9=63\t\n",
      "8*1=8\t8*2=16\t8*3=24\t8*4=32\t8*5=40\t8*6=48\t8*7=56\t8*8=64\t8*9=72\t\n",
      "9*1=9\t9*2=18\t9*3=27\t9*4=36\t9*5=45\t9*6=54\t9*7=63\t9*8=72\t9*9=81\t\n"
     ]
    }
   ],
   "source": [
    "# 巢狀迴圈\n",
    "for i in range(1 ,10):\n",
    "    for j in range(1 ,10):\n",
    "        # 查詢 print 說明\n",
    "        print(f'{i}*{j}={i*j}', end='\\t')\n",
    "    print() # 預設印出換行"
   ]
  },
  {
   "cell_type": "code",
   "execution_count": 28,
   "id": "64dd040a",
   "metadata": {},
   "outputs": [
    {
     "name": "stdout",
     "output_type": "stream",
     "text": [
      "小明用了4個月存到了購買機車的錢43000\n"
     ]
    }
   ],
   "source": [
    "# for ... in ... 使用在已知迴圈次數的\n",
    "# while ... 使用在不知迴圈次數的\n",
    "# while(條件式) 條件式為 true 再次執行 若為 false 則跳出迴圈\n",
    "# 注意 若條件式恆為 true 則會成為無窮迴圈\n",
    "\n",
    "# 題目 : 小明想要購買一台機車30000元 於是決定每個月存錢 但不確定存多少 一旦存夠了就做出提醒\n",
    "total:int = 0\n",
    "count:int = 0\n",
    "while(total < 30000):\n",
    "    i:int = int(input('請輸入本月存入金額:'))\n",
    "    total += i\n",
    "    count += 1\n",
    "print(f'小明用了{count}個月存到了購買機車的錢{total}')"
   ]
  },
  {
   "cell_type": "code",
   "execution_count": 31,
   "id": "8fb7d06a",
   "metadata": {},
   "outputs": [
    {
     "name": "stdout",
     "output_type": "stream",
     "text": [
      "9\n",
      "121\n",
      "169\n",
      "離開應用程式\n"
     ]
    }
   ],
   "source": [
    "# 能讓 while 迴圈變的更為靈活的關鍵字\n",
    "# while (true) : \n",
    "# break <- 跳出迴圈 \n",
    "# continue <- 不執行之後動作 直接進行下一輪迴圈\n",
    "\n",
    "# 題目 : 使用者輸入 奇數 >> 輸出平方數 偶數 >> 不動作 q >> 離開\n",
    "while(True):\n",
    "    input_value = input('請輸入整數 ,或是輸入 q離開:')\n",
    "    if input_value == 'q':\n",
    "        break\n",
    "    elif eval(input_value) % 2 == 0:\n",
    "        continue\n",
    "    else:\n",
    "        print(eval(input_value) ** 2)\n",
    "print('離開應用程式')"
   ]
  },
  {
   "cell_type": "code",
   "execution_count": 35,
   "id": "c059c9f9",
   "metadata": {},
   "outputs": [
    {
     "name": "stdout",
     "output_type": "stream",
     "text": [
      "16\n",
      "==========猜數字遊戲==========\n",
      "數值太大了\n",
      "可惜! 90 沒猜中.數值範圍縮減為 1~89\n",
      "你已經猜了1次\n",
      "數值太大了\n",
      "可惜! 50 沒猜中.數值範圍縮減為 1~49\n",
      "你已經猜了2次\n",
      "數值太小了\n",
      "可惜! 10 沒猜中.數值範圍縮減為 11~49\n",
      "你已經猜了3次\n",
      "數值太大了\n",
      "可惜! 18 沒猜中.數值範圍縮減為 11~17\n",
      "你已經猜了4次\n",
      "賓果!你猜對了, 答案是16\n",
      "你總共猜了5次\n",
      "遊戲結束\n"
     ]
    }
   ],
   "source": [
    "# 函示庫 (module ,pakeage)\n",
    "# 亂數\n",
    "import random\n",
    "min = 1\n",
    "max = 100\n",
    "count = 0\n",
    "target = random.randint(min,max)\n",
    "print(target)\n",
    "print('=' * 10 + '猜數字遊戲' + '=' * 10)\n",
    "while (True):\n",
    "    count += 1\n",
    "    keyin = int(input(f'請輸入一個整數 {min}~{max}'))\n",
    "    if keyin >= min and keyin <= max:\n",
    "        if keyin == target:\n",
    "            print(f'賓果!你猜對了, 答案是{target}')\n",
    "            print(f'你總共猜了{count}次')\n",
    "            break;\n",
    "        else:\n",
    "            if keyin < target:\n",
    "                print('數值太小了')\n",
    "                min = keyin + 1\n",
    "            else:\n",
    "                print('數值太大了')\n",
    "                max = keyin - 1\n",
    "        print((f'可惜! {keyin} 沒猜中.數值範圍縮減為 {min}~{max}'))\n",
    "        print(f'你已經猜了{count}次')\n",
    "    else:\n",
    "        print('請輸入一個在範圍內的數字')\n",
    "print('遊戲結束')"
   ]
  },
  {
   "cell_type": "code",
   "execution_count": 45,
   "id": "1544a2a0",
   "metadata": {},
   "outputs": [
    {
     "name": "stdout",
     "output_type": "stream",
     "text": [
      "你的身高:169.0 公分\n",
      "你的體重:83.00 公斤\n",
      "你的 BMI值為:29.06\n",
      "你已經輕度肥胖\n"
     ]
    }
   ],
   "source": [
    "# 2025 05 13 issue\n",
    "# BMI計算\n",
    "try:\n",
    "    height:int = int(input('請輸入你的身高(公分 cm):'))\n",
    "    if height < 120 or height > 220:\n",
    "        raise Exception(f'輸入的身高: {height} 公分 不在 120 ~ 220 範圍內')\n",
    "    height /= 100\n",
    "    weight = eval(input('請輸入你的體重(公斤 kg):'))\n",
    "    if weight < 30.0 or weight > 200.0:\n",
    "        raise Exception(f'輸入的體重: {weight:.2f} 公斤 不在 30 ~ 200 範圍內')\n",
    "    bmicalculate = weight / height ** 2\n",
    "except ValueError:\n",
    "    print('輸入發生錯誤')\n",
    "except Exception as e :\n",
    "    print(e)\n",
    "else:\n",
    "    print(f'你的身高:{height*100} 公分')\n",
    "    print(f'你的體重:{weight:.2f} 公斤')\n",
    "    print(f'你的 BMI值為:{bmicalculate:.2f}')\n",
    "    if bmicalculate < 18.5:\n",
    "        print('你的體重過輕')\n",
    "    elif bmicalculate < 24:\n",
    "        print('你的體重正常')\n",
    "    elif bmicalculate < 27:\n",
    "        print('你的體重稍微過重')\n",
    "    elif bmicalculate < 30:\n",
    "        print('你已經輕度肥胖')\n",
    "    elif bmicalculate < 35:\n",
    "        print('你已經中度肥胖')\n",
    "    else:\n",
    "        print('你已經重度肥胖')"
   ]
  }
 ],
 "metadata": {
  "kernelspec": {
   "display_name": "base",
   "language": "python",
   "name": "python3"
  },
  "language_info": {
   "codemirror_mode": {
    "name": "ipython",
    "version": 3
   },
   "file_extension": ".py",
   "mimetype": "text/x-python",
   "name": "python",
   "nbconvert_exporter": "python",
   "pygments_lexer": "ipython3",
   "version": "3.12.9"
  }
 },
 "nbformat": 4,
 "nbformat_minor": 5
}
