{
 "cells": [
  {
   "cell_type": "markdown",
   "id": "e64b06cd",
   "metadata": {},
   "source": [
    "### 流程控制 迴圈 loop\n",
    "- for ... in ..."
   ]
  },
  {
   "cell_type": "code",
   "execution_count": 3,
   "id": "2decb563",
   "metadata": {},
   "outputs": [
    {
     "name": "stdout",
     "output_type": "stream",
     "text": [
      "55\n"
     ]
    }
   ],
   "source": [
    "# n = 1 ~ 10 總和\n",
    "n = 0\n",
    "n += 1\n",
    "n += 2\n",
    "n += 3\n",
    "n += 4\n",
    "n += 5\n",
    "n += 6\n",
    "n += 7\n",
    "n += 8\n",
    "n += 9\n",
    "n += 10\n",
    "print(n)"
   ]
  },
  {
   "cell_type": "code",
   "execution_count": 11,
   "id": "7fee2789",
   "metadata": {},
   "outputs": [
    {
     "name": "stdout",
     "output_type": "stream",
     "text": [
      "0\n",
      "1\n",
      "2\n",
      "3\n",
      "4\n"
     ]
    }
   ],
   "source": [
    "# 內建函數 rnage()\n",
    "# range(5) = range(0, 5) interable 0 , 1 , 2 , 3 , 4 \n",
    "# for 自訂變數 in interable\n",
    "for i in range(5) :\n",
    "    print(i)"
   ]
  },
  {
   "cell_type": "code",
   "execution_count": 10,
   "id": "ba31eb9c",
   "metadata": {},
   "outputs": [
    {
     "name": "stdout",
     "output_type": "stream",
     "text": [
      "1\n",
      "3\n",
      "5\n",
      "7\n",
      "9\n"
     ]
    }
   ],
   "source": [
    "# range(strat ,stop ,step=1) 有 default 值的 可以省略\n",
    "# range(1 ,5) = 1 ,2 ,3 ,4\n",
    "# range(1 ,10, 2) = 1 ,3 ,5 ,7 ,9\n",
    "for i in range(1 ,10 ,2) :\n",
    "    print(i)"
   ]
  },
  {
   "cell_type": "code",
   "execution_count": 13,
   "id": "2cc69945",
   "metadata": {},
   "outputs": [
    {
     "name": "stdout",
     "output_type": "stream",
     "text": [
      "從1加總到100的值為:5050\n"
     ]
    }
   ],
   "source": [
    "n:int  = int(input('請輸入一個整數:'))\n",
    "total:int = 0\n",
    "for i in range(1 ,n+1):\n",
    "    total += i\n",
    "print(f'從1加總到{n}的值為:{total}')"
   ]
  },
  {
   "cell_type": "code",
   "execution_count": 23,
   "id": "8c66bf4c",
   "metadata": {},
   "outputs": [
    {
     "name": "stdout",
     "output_type": "stream",
     "text": [
      "1*1=1\t1*2=2\t1*3=3\t1*4=4\t1*5=5\t1*6=6\t1*7=7\t1*8=8\t1*9=9\t\n",
      "2*1=2\t2*2=4\t2*3=6\t2*4=8\t2*5=10\t2*6=12\t2*7=14\t2*8=16\t2*9=18\t\n",
      "3*1=3\t3*2=6\t3*3=9\t3*4=12\t3*5=15\t3*6=18\t3*7=21\t3*8=24\t3*9=27\t\n",
      "4*1=4\t4*2=8\t4*3=12\t4*4=16\t4*5=20\t4*6=24\t4*7=28\t4*8=32\t4*9=36\t\n",
      "5*1=5\t5*2=10\t5*3=15\t5*4=20\t5*5=25\t5*6=30\t5*7=35\t5*8=40\t5*9=45\t\n",
      "6*1=6\t6*2=12\t6*3=18\t6*4=24\t6*5=30\t6*6=36\t6*7=42\t6*8=48\t6*9=54\t\n",
      "7*1=7\t7*2=14\t7*3=21\t7*4=28\t7*5=35\t7*6=42\t7*7=49\t7*8=56\t7*9=63\t\n",
      "8*1=8\t8*2=16\t8*3=24\t8*4=32\t8*5=40\t8*6=48\t8*7=56\t8*8=64\t8*9=72\t\n",
      "9*1=9\t9*2=18\t9*3=27\t9*4=36\t9*5=45\t9*6=54\t9*7=63\t9*8=72\t9*9=81\t\n"
     ]
    }
   ],
   "source": [
    "# 巢狀迴圈\n",
    "for i in range(1 ,10):\n",
    "    for j in range(1 ,10):\n",
    "        # 查詢 print 說明\n",
    "        print(f'{i}*{j}={i*j}', end='\\t')\n",
    "    print() # 預設印出換行"
   ]
  },
  {
   "cell_type": "code",
   "execution_count": 28,
   "id": "64dd040a",
   "metadata": {},
   "outputs": [
    {
     "name": "stdout",
     "output_type": "stream",
     "text": [
      "小明用了4個月存到了購買機車的錢43000\n"
     ]
    }
   ],
   "source": [
    "# for ... in ... 使用在已知迴圈次數的\n",
    "# while ... 使用在不知迴圈次數的\n",
    "# while(條件式) 條件式為 true 再次執行 若為 false 則跳出迴圈\n",
    "# 注意 若條件式恆為 true 則會成為無窮迴圈\n",
    "\n",
    "# 題目 : 小明想要購買一台機車30000元 於是決定每個月存錢 但不確定存多少 一旦存夠了就做出提醒\n",
    "total:int = 0\n",
    "count:int = 0\n",
    "while(total < 30000):\n",
    "    i:int = int(input('請輸入本月存入金額:'))\n",
    "    total += i\n",
    "    count += 1\n",
    "print(f'小明用了{count}個月存到了購買機車的錢{total}')"
   ]
  },
  {
   "cell_type": "code",
   "execution_count": 31,
   "id": "8fb7d06a",
   "metadata": {},
   "outputs": [
    {
     "name": "stdout",
     "output_type": "stream",
     "text": [
      "9\n",
      "121\n",
      "169\n",
      "離開應用程式\n"
     ]
    }
   ],
   "source": [
    "# 能讓 while 迴圈變的更為靈活的關鍵字\n",
    "# while (true) : \n",
    "# break <- 跳出迴圈 \n",
    "# continue <- 不執行之後動作 直接進行下一輪迴圈\n",
    "\n",
    "# 題目 : 使用者輸入 奇數 >> 輸出平方數 偶數 >> 不動作 q >> 離開\n",
    "while(True):\n",
    "    input_value = input('請輸入整數 ,或是輸入 q離開:')\n",
    "    if input_value == 'q':\n",
    "        break\n",
    "    elif eval(input_value) % 2 == 0:\n",
    "        continue\n",
    "    else:\n",
    "        print(eval(input_value) ** 2)\n",
    "print('離開應用程式')"
   ]
  }
 ],
 "metadata": {
  "kernelspec": {
   "display_name": "base",
   "language": "python",
   "name": "python3"
  },
  "language_info": {
   "codemirror_mode": {
    "name": "ipython",
    "version": 3
   },
   "file_extension": ".py",
   "mimetype": "text/x-python",
   "name": "python",
   "nbconvert_exporter": "python",
   "pygments_lexer": "ipython3",
   "version": "3.12.9"
  }
 },
 "nbformat": 4,
 "nbformat_minor": 5
}
