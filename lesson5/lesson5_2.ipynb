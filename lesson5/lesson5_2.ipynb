{
 "cells": [
  {
   "cell_type": "markdown",
   "id": "e64b06cd",
   "metadata": {},
   "source": [
    "### 流程控制 迴圈 loop"
   ]
  }
 ],
 "metadata": {
  "kernelspec": {
   "display_name": "base",
   "language": "python",
   "name": "python3"
  },
  "language_info": {
   "name": "python",
   "version": "3.12.9"
  }
 },
 "nbformat": 4,
 "nbformat_minor": 5
}
