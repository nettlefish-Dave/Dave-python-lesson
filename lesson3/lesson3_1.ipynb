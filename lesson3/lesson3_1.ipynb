{
 "cells": [
  {
   "cell_type": "markdown",
   "id": "cca8e6ce",
   "metadata": {},
   "source": [
    "### 數值的運算(int,float)\n",
    "### 數學運算子\n",
    "### 運算子的優先順序"
   ]
  },
  {
   "cell_type": "code",
   "execution_count": 1,
   "id": "20a77933",
   "metadata": {},
   "outputs": [
    {
     "data": {
      "text/plain": [
       "10"
      ]
     },
     "execution_count": 1,
     "metadata": {},
     "output_type": "execute_result"
    }
   ],
   "source": [
    "2 * (1 + 2) ** 2 - 2 ** 2 * 2"
   ]
  },
  {
   "cell_type": "code",
   "execution_count": 3,
   "id": "a892e6f2",
   "metadata": {},
   "outputs": [
    {
     "data": {
      "text/plain": [
       "25"
      ]
     },
     "execution_count": 3,
     "metadata": {},
     "output_type": "execute_result"
    }
   ],
   "source": [
    "5 + 10\n",
    "20 + 5"
   ]
  },
  {
   "cell_type": "markdown",
   "id": "9210a86c",
   "metadata": {},
   "source": [
    "### 建立變數"
   ]
  },
  {
   "cell_type": "code",
   "execution_count": null,
   "id": "30cd4194",
   "metadata": {},
   "outputs": [
    {
     "name": "stdout",
     "output_type": "stream",
     "text": [
      "total= 40\n"
     ]
    }
   ],
   "source": [
    "n = 15 #敘述式\n",
    "m = 25 #敘述式\n",
    "total = n + m #還是敘式\n",
    "print(\"total=\",total) #仍然是敘述式"
   ]
  },
  {
   "cell_type": "code",
   "execution_count": 8,
   "id": "4d8b4bdf",
   "metadata": {},
   "outputs": [
    {
     "name": "stdout",
     "output_type": "stream",
     "text": [
      "15 25\n"
     ]
    }
   ],
   "source": [
    "x = 5 + 10\n",
    "y = 20 + 5\n",
    "print(x,y)"
   ]
  }
 ],
 "metadata": {
  "kernelspec": {
   "display_name": "base",
   "language": "python",
   "name": "python3"
  },
  "language_info": {
   "codemirror_mode": {
    "name": "ipython",
    "version": 3
   },
   "file_extension": ".py",
   "mimetype": "text/x-python",
   "name": "python",
   "nbconvert_exporter": "python",
   "pygments_lexer": "ipython3",
   "version": "3.12.9"
  }
 },
 "nbformat": 4,
 "nbformat_minor": 5
}
