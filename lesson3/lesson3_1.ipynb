{
 "cells": [
  {
   "cell_type": "markdown",
   "id": "cca8e6ce",
   "metadata": {},
   "source": [
    "### 數值的運算(int,float)\n",
    "### 數學運算子\n",
    "### 運算子的優先順序"
   ]
  },
  {
   "cell_type": "code",
   "execution_count": 1,
   "id": "20a77933",
   "metadata": {},
   "outputs": [
    {
     "data": {
      "text/plain": [
       "10"
      ]
     },
     "execution_count": 1,
     "metadata": {},
     "output_type": "execute_result"
    }
   ],
   "source": [
    "2 * (1 + 2) ** 2 - 2 ** 2 * 2"
   ]
  },
  {
   "cell_type": "code",
   "execution_count": 3,
   "id": "a892e6f2",
   "metadata": {},
   "outputs": [
    {
     "data": {
      "text/plain": [
       "25"
      ]
     },
     "execution_count": 3,
     "metadata": {},
     "output_type": "execute_result"
    }
   ],
   "source": [
    "5 + 10\n",
    "20 + 5"
   ]
  },
  {
   "cell_type": "markdown",
   "id": "9210a86c",
   "metadata": {},
   "source": [
    "### 建立變數"
   ]
  },
  {
   "cell_type": "code",
   "execution_count": null,
   "id": "30cd4194",
   "metadata": {},
   "outputs": [
    {
     "name": "stdout",
     "output_type": "stream",
     "text": [
      "total= 40\n"
     ]
    }
   ],
   "source": [
    "n = 15 #敘述式\n",
    "m = 25 #敘述式\n",
    "total = n + m #還是敘述式\n",
    "print(\"total=\",total) #仍然是敘述式"
   ]
  },
  {
   "cell_type": "code",
   "execution_count": null,
   "id": "4d8b4bdf",
   "metadata": {},
   "outputs": [
    {
     "name": "stdout",
     "output_type": "stream",
     "text": [
      "15 25\n"
     ]
    }
   ],
   "source": [
    "x = 5 + 10\n",
    "y = 20 + 5 \n",
    "print(x,y)"
   ]
  },
  {
   "cell_type": "code",
   "execution_count": 13,
   "id": "9f7100f9",
   "metadata": {},
   "outputs": [
    {
     "name": "stdout",
     "output_type": "stream",
     "text": [
      "輸入的數值= 20\n"
     ]
    }
   ],
   "source": [
    "value_str = input('請輸入整數:')\n",
    "value = int(value_str)\n",
    "print(\"輸入的數值=\",value)"
   ]
  },
  {
   "cell_type": "code",
   "execution_count": 14,
   "id": "0e544b2b",
   "metadata": {},
   "outputs": [
    {
     "name": "stdout",
     "output_type": "stream",
     "text": [
      "輸入的數值總和= 60\n"
     ]
    }
   ],
   "source": [
    "value1 = int(input('請輸入第一個整數:'))\n",
    "value2 = int(input('請輸入第二個整數:'))\n",
    "total = value1 + value2\n",
    "print(\"輸入的數值總和=\",total)"
   ]
  },
  {
   "cell_type": "code",
   "execution_count": 15,
   "id": "e04581e3",
   "metadata": {},
   "outputs": [
    {
     "name": "stdout",
     "output_type": "stream",
     "text": [
      "矩形寬= 13.5\n",
      "矩形高= 25.94\n",
      "矩形面積是= 350.19\n"
     ]
    }
   ],
   "source": [
    "width = eval(input('請輸入矩形寬:'))\n",
    "height = eval(input('請輸入矩形高:'))\n",
    "area = width * height\n",
    "print('矩形寬=',width)\n",
    "print('矩形高=',height)\n",
    "print('矩形面積是=',area)"
   ]
  }
 ],
 "metadata": {
  "kernelspec": {
   "display_name": "base",
   "language": "python",
   "name": "python3"
  },
  "language_info": {
   "codemirror_mode": {
    "name": "ipython",
    "version": 3
   },
   "file_extension": ".py",
   "mimetype": "text/x-python",
   "name": "python",
   "nbconvert_exporter": "python",
   "pygments_lexer": "ipython3",
   "version": "3.12.9"
  }
 },
 "nbformat": 4,
 "nbformat_minor": 5
}
