{
 "cells": [
  {
   "cell_type": "markdown",
   "id": "d41d68f0",
   "metadata": {},
   "source": [
    "### 複合指定運算子\n",
    "- \\+=\n",
    "- \\-=\n",
    "- \\*=\n",
    "- /=\n",
    "- //=\n",
    "- **=\n",
    "- %="
   ]
  },
  {
   "cell_type": "code",
   "execution_count": 2,
   "id": "86d0a6e9",
   "metadata": {},
   "outputs": [
    {
     "name": "stdout",
     "output_type": "stream",
     "text": [
      "10\n"
     ]
    }
   ],
   "source": [
    "n = 5\n",
    "n = n + 5\n",
    "print(n)"
   ]
  },
  {
   "cell_type": "code",
   "execution_count": 1,
   "id": "66d8dc03",
   "metadata": {},
   "outputs": [
    {
     "name": "stdout",
     "output_type": "stream",
     "text": [
      "15\n"
     ]
    }
   ],
   "source": [
    "n = 5\n",
    "n += 10\n",
    "print(n)"
   ]
  },
  {
   "cell_type": "markdown",
   "id": "28f4ba84",
   "metadata": {},
   "source": [
    "### 使用內建函式庫(math)"
   ]
  },
  {
   "cell_type": "code",
   "execution_count": 3,
   "id": "4c46b10e",
   "metadata": {},
   "outputs": [
    {
     "name": "stdout",
     "output_type": "stream",
     "text": [
      "鄰邊= 3\n",
      "對邊= 4\n",
      "斜邊= 5.0\n"
     ]
    }
   ],
   "source": [
    "#高中數學\n",
    "import math\n",
    "aside = eval(input('請輸入鄰邊:'))\n",
    "bside = eval(input('請輸入對邊:'))\n",
    "result = math.sqrt(aside ** 2 + bside ** 2)\n",
    "print('鄰邊=',aside)\n",
    "print('對邊=',bside)\n",
    "print('斜邊=',result)"
   ]
  }
 ],
 "metadata": {
  "kernelspec": {
   "display_name": "base",
   "language": "python",
   "name": "python3"
  },
  "language_info": {
   "codemirror_mode": {
    "name": "ipython",
    "version": 3
   },
   "file_extension": ".py",
   "mimetype": "text/x-python",
   "name": "python",
   "nbconvert_exporter": "python",
   "pygments_lexer": "ipython3",
   "version": "3.12.9"
  }
 },
 "nbformat": 4,
 "nbformat_minor": 5
}
