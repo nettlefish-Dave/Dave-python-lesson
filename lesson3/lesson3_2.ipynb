{
 "cells": [
  {
   "cell_type": "markdown",
   "id": "d41d68f0",
   "metadata": {},
   "source": [
    "### 複合指定運算子\n",
    "- \\+=\n",
    "- \\-=\n",
    "- \\*=\n",
    "- /=\n",
    "- //=\n",
    "- **=\n",
    "- %="
   ]
  },
  {
   "cell_type": "code",
   "execution_count": 2,
   "id": "86d0a6e9",
   "metadata": {},
   "outputs": [
    {
     "name": "stdout",
     "output_type": "stream",
     "text": [
      "10\n"
     ]
    }
   ],
   "source": [
    "n = 5\n",
    "n = n + 5\n",
    "print(n)"
   ]
  },
  {
   "cell_type": "code",
   "execution_count": 1,
   "id": "66d8dc03",
   "metadata": {},
   "outputs": [
    {
     "name": "stdout",
     "output_type": "stream",
     "text": [
      "15\n"
     ]
    }
   ],
   "source": [
    "n = 5\n",
    "n += 10\n",
    "print(n)"
   ]
  }
 ],
 "metadata": {
  "kernelspec": {
   "display_name": "base",
   "language": "python",
   "name": "python3"
  },
  "language_info": {
   "codemirror_mode": {
    "name": "ipython",
    "version": 3
   },
   "file_extension": ".py",
   "mimetype": "text/x-python",
   "name": "python",
   "nbconvert_exporter": "python",
   "pygments_lexer": "ipython3",
   "version": "3.12.9"
  }
 },
 "nbformat": 4,
 "nbformat_minor": 5
}
