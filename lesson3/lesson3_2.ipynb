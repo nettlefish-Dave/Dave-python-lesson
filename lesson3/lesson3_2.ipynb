{
 "cells": [
  {
   "cell_type": "markdown",
   "id": "d41d68f0",
   "metadata": {},
   "source": [
    "### 複合指定運算子\n",
    "- \\+=\n",
    "- \\-=\n",
    "- \\*=\n",
    "- /=\n",
    "- //=\n",
    "- **=\n",
    "- %="
   ]
  },
  {
   "cell_type": "code",
   "execution_count": 2,
   "id": "86d0a6e9",
   "metadata": {},
   "outputs": [
    {
     "name": "stdout",
     "output_type": "stream",
     "text": [
      "10\n"
     ]
    }
   ],
   "source": [
    "n = 5\n",
    "n = n + 5\n",
    "print(n)"
   ]
  },
  {
   "cell_type": "code",
   "execution_count": 1,
   "id": "66d8dc03",
   "metadata": {},
   "outputs": [
    {
     "name": "stdout",
     "output_type": "stream",
     "text": [
      "15\n"
     ]
    }
   ],
   "source": [
    "n = 5\n",
    "n += 10\n",
    "print(n)"
   ]
  },
  {
   "cell_type": "markdown",
   "id": "28f4ba84",
   "metadata": {},
   "source": [
    "### 使用內建函式庫(math)"
   ]
  },
  {
   "cell_type": "code",
   "execution_count": 3,
   "id": "4c46b10e",
   "metadata": {},
   "outputs": [
    {
     "name": "stdout",
     "output_type": "stream",
     "text": [
      "鄰邊= 3\n",
      "對邊= 4\n",
      "斜邊= 5.0\n"
     ]
    }
   ],
   "source": [
    "#高中數學\n",
    "import math\n",
    "aside = eval(input('請輸入鄰邊:'))\n",
    "bside = eval(input('請輸入對邊:'))\n",
    "result = math.sqrt(aside ** 2 + bside ** 2)\n",
    "print('鄰邊=',aside)\n",
    "print('對邊=',bside)\n",
    "print('斜邊=',result)"
   ]
  },
  {
   "cell_type": "code",
   "execution_count": 8,
   "id": "cec3d91a",
   "metadata": {},
   "outputs": [
    {
     "name": "stdout",
     "output_type": "stream",
     "text": [
      "對邊= 2.5\n",
      "斜邊= 5\n",
      "角度= 30.000000000000004\n"
     ]
    }
   ],
   "source": [
    "import math\n",
    "aside = eval(input('請輸入對邊:'))\n",
    "bside = eval(input('請輸入斜邊:'))\n",
    "radian = math.asin(aside/bside)\n",
    "result = math.degrees(radian)\n",
    "print('對邊=',aside)\n",
    "print('斜邊=',bside)\n",
    "print('角度=',result)"
   ]
  },
  {
   "cell_type": "code",
   "execution_count": null,
   "id": "cec6605a",
   "metadata": {},
   "outputs": [
    {
     "name": "stdout",
     "output_type": "stream",
     "text": [
      "國文成績:92數學成績:100\n"
     ]
    }
   ],
   "source": [
    "#字串插補(字串格式化)\n",
    "chinese = 92\n",
    "math = 100\n",
    "print(\"國文成績:\" + str(chinese) + \"數學成績:\" + str(math))"
   ]
  },
  {
   "cell_type": "code",
   "execution_count": 14,
   "id": "e198b038",
   "metadata": {},
   "outputs": [
    {
     "name": "stdout",
     "output_type": "stream",
     "text": [
      "國文成績:92.36數學成績:100\n"
     ]
    }
   ],
   "source": [
    "#字串與數字整合成為全新的字串\n",
    "chinese = 92.3579\n",
    "math = 100\n",
    "print(f\"國文成績:{chinese:.2f}數學成績:{math}\")"
   ]
  }
 ],
 "metadata": {
  "kernelspec": {
   "display_name": "base",
   "language": "python",
   "name": "python3"
  },
  "language_info": {
   "codemirror_mode": {
    "name": "ipython",
    "version": 3
   },
   "file_extension": ".py",
   "mimetype": "text/x-python",
   "name": "python",
   "nbconvert_exporter": "python",
   "pygments_lexer": "ipython3",
   "version": "3.12.9"
  }
 },
 "nbformat": 4,
 "nbformat_minor": 5
}
