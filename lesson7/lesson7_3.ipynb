{
 "cells": [
  {
   "cell_type": "markdown",
   "id": "e5065d2d",
   "metadata": {},
   "source": [
    "### Tuple \n",
    "- 不可變變數 imutable \n",
    "- 串列資料 sequence -> 可以排序的資料\n",
    "- 可由符號建立 (xxx,xxx,xxxx)"
   ]
  },
  {
   "cell_type": "code",
   "execution_count": null,
   "id": "4553b68b",
   "metadata": {},
   "outputs": [
    {
     "name": "stdout",
     "output_type": "stream",
     "text": [
      "星期一\n",
      "星期四\n",
      "星期日\n"
     ]
    }
   ],
   "source": [
    "#Tuple一旦宣告後 不能做任何更改\n",
    "weekdays:[str] = ('星期一','星期二','星期三','星期四','星期五','星期六','星期日')\n",
    "#透過編號來取得tuple元素\n",
    "print(weekdays[0])\n",
    "print(weekdays[3])\n",
    "print(weekdays[6])"
   ]
  },
  {
   "cell_type": "code",
   "execution_count": 9,
   "id": "49b37763",
   "metadata": {},
   "outputs": [
    {
     "name": "stdout",
     "output_type": "stream",
     "text": [
      "星期一\n",
      "星期二\n",
      "星期三\n",
      "星期四\n",
      "星期五\n",
      "星期六\n",
      "星期日\n"
     ]
    }
   ],
   "source": [
    "for day in weekdays:\n",
    "    print(day)"
   ]
  },
  {
   "cell_type": "markdown",
   "id": "a6096101",
   "metadata": {},
   "source": [
    "### tuple 最常用的操作方式 -> 拆解法"
   ]
  },
  {
   "cell_type": "code",
   "execution_count": 11,
   "id": "52bcd48b",
   "metadata": {},
   "outputs": [
    {
     "name": "stdout",
     "output_type": "stream",
     "text": [
      "Robert\n",
      "35\n",
      "345\n"
     ]
    }
   ],
   "source": [
    "#拆解給變數\n",
    "(name,age,score) = ('Robert',35,345)\n",
    "print(name)\n",
    "print(age)\n",
    "print(score)"
   ]
  },
  {
   "cell_type": "code",
   "execution_count": 14,
   "id": "c4be57a9",
   "metadata": {},
   "outputs": [
    {
     "data": {
      "text/plain": [
       "('Robert', 345, 35)"
      ]
     },
     "execution_count": 14,
     "metadata": {},
     "output_type": "execute_result"
    }
   ],
   "source": [
    "#小括號可以省略\n",
    "name,age,score = 'Robert',35,345\n",
    "name,score,age"
   ]
  }
 ],
 "metadata": {
  "kernelspec": {
   "display_name": "base",
   "language": "python",
   "name": "python3"
  },
  "language_info": {
   "codemirror_mode": {
    "name": "ipython",
    "version": 3
   },
   "file_extension": ".py",
   "mimetype": "text/x-python",
   "name": "python",
   "nbconvert_exporter": "python",
   "pygments_lexer": "ipython3",
   "version": "3.12.9"
  }
 },
 "nbformat": 4,
 "nbformat_minor": 5
}
