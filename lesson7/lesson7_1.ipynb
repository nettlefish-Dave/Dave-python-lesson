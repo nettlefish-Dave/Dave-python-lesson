{
 "cells": [
  {
   "cell_type": "markdown",
   "id": "c49901d6",
   "metadata": {},
   "source": [
    "### Function 呼叫的方式"
   ]
  },
  {
   "cell_type": "code",
   "execution_count": 5,
   "id": "24019d10",
   "metadata": {},
   "outputs": [],
   "source": [
    "def menu(wine, entree, desert):\n",
    "    print(f'餐前酒 :{wine}')\n",
    "    print(f'主餐 :{entree}')\n",
    "    print(f'甜點 :{desert}')"
   ]
  },
  {
   "cell_type": "code",
   "execution_count": 2,
   "id": "ca3eee56",
   "metadata": {},
   "outputs": [
    {
     "name": "stdout",
     "output_type": "stream",
     "text": [
      "餐前酒 :白酒\n",
      "主餐 :牛排\n",
      "甜點 :蛋糕\n"
     ]
    }
   ],
   "source": [
    "menu('白酒','牛排','蛋糕')"
   ]
  },
  {
   "cell_type": "markdown",
   "id": "27df0c55",
   "metadata": {},
   "source": [
    "### 引數名稱的呼叫\n",
    "- 使用引數的名稱直接指定數值\n",
    "- 可以不依照參數的順序"
   ]
  },
  {
   "cell_type": "code",
   "execution_count": 3,
   "id": "03fda84a",
   "metadata": {},
   "outputs": [
    {
     "name": "stdout",
     "output_type": "stream",
     "text": [
      "餐前酒 :白酒\n",
      "主餐 :牛排\n",
      "甜點 :馬卡龍\n"
     ]
    }
   ],
   "source": [
    "menu(wine='白酒',entree='牛排',desert='馬卡龍')"
   ]
  },
  {
   "cell_type": "code",
   "execution_count": 4,
   "id": "73f1460b",
   "metadata": {},
   "outputs": [
    {
     "name": "stdout",
     "output_type": "stream",
     "text": [
      "餐前酒 :白酒\n",
      "主餐 :牛排\n",
      "甜點 :馬卡龍\n"
     ]
    }
   ],
   "source": [
    "menu(entree='牛排',desert='馬卡龍',wine='白酒')"
   ]
  },
  {
   "cell_type": "markdown",
   "id": "78704a7a",
   "metadata": {},
   "source": [
    "### 混合呼叫\n",
    "- 前面一定要用引數值(位置) 後面引數名稱呼叫\n",
    "- 使用引數名稱呼叫後 後面全部要使用引數名稱呼叫"
   ]
  },
  {
   "cell_type": "code",
   "execution_count": null,
   "id": "baf694c8",
   "metadata": {},
   "outputs": [
    {
     "name": "stdout",
     "output_type": "stream",
     "text": [
      "餐前酒 :白酒\n",
      "主餐 :牛排\n",
      "甜點 :馬卡龍\n"
     ]
    }
   ],
   "source": [
    "# 混合呼叫\n",
    "menu('白酒',desert='馬卡龍',entree='牛排') #一旦使用引數名稱指定數值,之後必須使用指定數值"
   ]
  },
  {
   "cell_type": "markdown",
   "id": "8c9721aa",
   "metadata": {},
   "source": [
    "### 有預設值的參數一定要放在最後面"
   ]
  },
  {
   "cell_type": "code",
   "execution_count": 8,
   "id": "3071e2d5",
   "metadata": {},
   "outputs": [],
   "source": [
    "def menu(wine, entree, desert='奶昔'):\n",
    "    print(f'餐前酒 :{wine}')\n",
    "    print(f'主餐 :{entree}')\n",
    "    print(f'甜點 :{desert}')"
   ]
  },
  {
   "cell_type": "markdown",
   "id": "338e5b49",
   "metadata": {},
   "source": [
    "### 有預設值的參數可以省略"
   ]
  },
  {
   "cell_type": "code",
   "execution_count": 10,
   "id": "d53153d2",
   "metadata": {},
   "outputs": [
    {
     "name": "stdout",
     "output_type": "stream",
     "text": [
      "餐前酒 :白酒\n",
      "主餐 :牛排\n",
      "甜點 :奶昔\n"
     ]
    }
   ],
   "source": [
    "menu('白酒','牛排')"
   ]
  },
  {
   "cell_type": "markdown",
   "id": "c12bf42c",
   "metadata": {},
   "source": [
    "### 呼叫時可以取代有預設值的參數"
   ]
  },
  {
   "cell_type": "code",
   "execution_count": 11,
   "id": "f1ffcf1f",
   "metadata": {},
   "outputs": [
    {
     "name": "stdout",
     "output_type": "stream",
     "text": [
      "餐前酒 :白酒\n",
      "主餐 :牛排\n",
      "甜點 :蛋糕\n"
     ]
    }
   ],
   "source": [
    "menu('白酒','牛排',desert='蛋糕')"
   ]
  },
  {
   "cell_type": "markdown",
   "id": "3e9604b3",
   "metadata": {},
   "source": [
    "### *參數名稱\n",
    "- 沒有限定引數值的呼叫 也可以空呼叫\n",
    "- 大多會放在最前方\n",
    "- 參數名稱可任意定義"
   ]
  },
  {
   "cell_type": "code",
   "execution_count": 12,
   "id": "c8e230e8",
   "metadata": {},
   "outputs": [],
   "source": [
    "def print_args(*args):\n",
    "    #args 是tuple\n",
    "    print(args)"
   ]
  },
  {
   "cell_type": "markdown",
   "id": "085d3e27",
   "metadata": {},
   "source": [
    "### tuple把一組數值包在一起 使用小括號()\n",
    "- (1,3,5,7,9)"
   ]
  },
  {
   "cell_type": "code",
   "execution_count": 13,
   "id": "5b3f9195",
   "metadata": {},
   "outputs": [
    {
     "name": "stdout",
     "output_type": "stream",
     "text": [
      "('a', 'b', 'c', 1, 2, 3, True, False)\n"
     ]
    }
   ],
   "source": [
    "print_args('a','b','c',1,2,3,True,False)"
   ]
  }
 ],
 "metadata": {
  "kernelspec": {
   "display_name": "base",
   "language": "python",
   "name": "python3"
  },
  "language_info": {
   "codemirror_mode": {
    "name": "ipython",
    "version": 3
   },
   "file_extension": ".py",
   "mimetype": "text/x-python",
   "name": "python",
   "nbconvert_exporter": "python",
   "pygments_lexer": "ipython3",
   "version": "3.12.9"
  }
 },
 "nbformat": 4,
 "nbformat_minor": 5
}
