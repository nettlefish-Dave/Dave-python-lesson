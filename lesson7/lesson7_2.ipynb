{
 "cells": [
  {
   "cell_type": "markdown",
   "id": "53165069",
   "metadata": {},
   "source": [
    "### print(*objects, sep=' ', end='\\n', file=None, flush=False)"
   ]
  },
  {
   "cell_type": "code",
   "execution_count": 1,
   "id": "dbb2c254",
   "metadata": {},
   "outputs": [
    {
     "name": "stdout",
     "output_type": "stream",
     "text": [
      "1 2 3 a b c結束\n"
     ]
    }
   ],
   "source": [
    "print(1,2,3,'a','b','c',end='結束\\n')"
   ]
  },
  {
   "cell_type": "code",
   "execution_count": 2,
   "id": "b057ce64",
   "metadata": {},
   "outputs": [
    {
     "name": "stdout",
     "output_type": "stream",
     "text": [
      "1-2-3-a-b-c結束\n"
     ]
    }
   ],
   "source": [
    "print(1,2,3,'a','b','c',end='結束\\n',sep='-')"
   ]
  },
  {
   "cell_type": "markdown",
   "id": "9eb949d6",
   "metadata": {},
   "source": [
    "### 引數裡的特殊符號\n",
    "- .*.之後全部都是引數值呼叫\n",
    "- ,/,之前全部都是引數值呼叫"
   ]
  },
  {
   "cell_type": "markdown",
   "id": "2b013238",
   "metadata": {},
   "source": [
    "### python的基本資料結構\n",
    "- list 使用中括號建立[xxx,xxx,xxx]\n",
    "- dictionary 使用大括號建立{key:value,key:value,key:value}\n",
    "- set 使用大括號建立{xxx,xxx,xxx}\n",
    "- (tuple 不可變的變數 imutable 用小括號建立(xxx,xxx,xxx)) "
   ]
  }
 ],
 "metadata": {
  "kernelspec": {
   "display_name": "base",
   "language": "python",
   "name": "python3"
  },
  "language_info": {
   "codemirror_mode": {
    "name": "ipython",
    "version": 3
   },
   "file_extension": ".py",
   "mimetype": "text/x-python",
   "name": "python",
   "nbconvert_exporter": "python",
   "pygments_lexer": "ipython3",
   "version": "3.12.9"
  }
 },
 "nbformat": 4,
 "nbformat_minor": 5
}
